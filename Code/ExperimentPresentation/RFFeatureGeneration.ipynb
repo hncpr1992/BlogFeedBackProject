{
 "cells": [
  {
   "cell_type": "code",
   "execution_count": 1,
   "metadata": {
    "collapsed": true
   },
   "outputs": [],
   "source": [
    "import numpy as np\n",
    "import pandas as pd\n",
    "from sklearn import tree"
   ]
  },
  {
   "cell_type": "code",
   "execution_count": 8,
   "metadata": {
    "collapsed": true
   },
   "outputs": [],
   "source": [
    "train = pd.read_csv(\"../Data/RFFeatureGen.csv\",header=0)\n",
    "y_train = train['y']\n",
    "X_train = train.drop('y',axis=1)"
   ]
  },
  {
   "cell_type": "code",
   "execution_count": 34,
   "metadata": {
    "collapsed": true
   },
   "outputs": [],
   "source": [
    "def traverseTree(i, children_left, children_right, feature, prev_feature):\n",
    "    if feature[i] < 0:\n",
    "        return\n",
    "    if prev_feature is not None:\n",
    "        inter_var.append(sorted([prev_feature, feature[i]]))\n",
    "    traverseTree(children_left[i], children_left, children_right, feature, feature[i])\n",
    "    traverseTree(children_right[i], children_left, children_right, feature, feature[i])"
   ]
  },
  {
   "cell_type": "code",
   "execution_count": 35,
   "metadata": {
    "collapsed": true
   },
   "outputs": [],
   "source": [
    "inter_var = []\n",
    "for i in range(100):\n",
    "    X_train_sample = X_train.sample(frac=0.2)\n",
    "    y_train_sample = y_train[X_train_sample.index]\n",
    "    X = X_train_sample.as_matrix()\n",
    "    y = y_train_sample.tolist()\n",
    "    dtr = tree.DecisionTreeRegressor(max_features=0.5,max_depth=10)\n",
    "    dtr.fit(X,y)\n",
    "    n_nodes = dtr.tree_.node_count\n",
    "    children_left = dtr.tree_.children_left\n",
    "    children_right = dtr.tree_.children_right\n",
    "    feature = dtr.tree_.feature\n",
    "    traverseTree(0, children_left, children_right, feature, None)"
   ]
  },
  {
   "cell_type": "code",
   "execution_count": 37,
   "metadata": {
    "collapsed": true
   },
   "outputs": [],
   "source": [
    "inter_var_dic = {}\n",
    "for l in inter_var:\n",
    "    if len(l) == len(set(l)):\n",
    "        if tuple(l) in inter_var_dic:\n",
    "            inter_var_dic[tuple(l)] += 1\n",
    "        else:\n",
    "            inter_var_dic[tuple(l)] = 1"
   ]
  },
  {
   "cell_type": "code",
   "execution_count": 39,
   "metadata": {
    "collapsed": false
   },
   "outputs": [],
   "source": [
    "result = sorted(inter_var_dic.items(), key=lambda x:x[1], reverse=True)"
   ]
  },
  {
   "cell_type": "code",
   "execution_count": 44,
   "metadata": {
    "collapsed": false
   },
   "outputs": [],
   "source": [
    "f = open(\"inter_vars.txt\", \"w\")\n",
    "cols = X_train.columns\n",
    "for tp in result:\n",
    "    if tp[1] < 60:\n",
    "        break\n",
    "    inter_var = tp[0]\n",
    "    line = \"\"\n",
    "    for var in inter_var:\n",
    "        line += cols[var]+'_'\n",
    "    line = line[:-1]\n",
    "    line += \"\\n\"\n",
    "    f.write(line)\n",
    "f.close()"
   ]
  },
  {
   "cell_type": "code",
   "execution_count": null,
   "metadata": {
    "collapsed": true
   },
   "outputs": [],
   "source": []
  }
 ],
 "metadata": {
  "anaconda-cloud": {},
  "kernelspec": {
   "display_name": "Python [Root]",
   "language": "python",
   "name": "Python [Root]"
  },
  "language_info": {
   "codemirror_mode": {
    "name": "ipython",
    "version": 3
   },
   "file_extension": ".py",
   "mimetype": "text/x-python",
   "name": "python",
   "nbconvert_exporter": "python",
   "pygments_lexer": "ipython3",
   "version": "3.5.2"
  }
 },
 "nbformat": 4,
 "nbformat_minor": 0
}
