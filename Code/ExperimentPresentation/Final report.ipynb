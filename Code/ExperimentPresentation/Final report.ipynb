{
 "cells": [
  {
   "cell_type": "markdown",
   "metadata": {},
   "source": [
    "# Data and package"
   ]
  },
  {
   "cell_type": "code",
   "execution_count": 3,
   "metadata": {
    "collapsed": false
   },
   "outputs": [
    {
     "name": "stderr",
     "output_type": "stream",
     "text": [
      "/home/peiran/anaconda3/lib/python3.5/site-packages/sklearn/cross_validation.py:44: DeprecationWarning: This module was deprecated in version 0.18 in favor of the model_selection module into which all the refactored classes and functions are moved. Also note that the interface of the new CV iterators are different from that of this module. This module will be removed in 0.20.\n",
      "  \"This module will be removed in 0.20.\", DeprecationWarning)\n"
     ]
    }
   ],
   "source": [
    "import numpy as np\n",
    "import pandas as pd\n",
    "import matplotlib.pyplot as plt\n",
    "import seaborn as sns\n",
    "\n",
    "%matplotlib inline\n",
    "pd.options.display.max_columns = 200\n",
    "pd.options.display.max_rows = 1000\n",
    "\n",
    "#model\n",
    "import xgboost as xgb"
   ]
  },
  {
   "cell_type": "markdown",
   "metadata": {},
   "source": [
    "# data"
   ]
  },
  {
   "cell_type": "code",
   "execution_count": 32,
   "metadata": {
    "collapsed": true
   },
   "outputs": [],
   "source": [
    "train = pd.read_csv(\"../Data/blogData_train.csv\",header=None)\n",
    "test = pd.read_csv(\"../Data/blogData_test.csv\",header=None)\n",
    "\n",
    "# rename\n",
    "names = [\"V%i\" % i if i != 281 else \"y\" for i in range(1,282)]\n",
    "train.columns = names\n",
    "test.columns = names\n",
    "\n",
    "# split\n",
    "X_train = train.ix[:,\"V1\":\"V280\"]\n",
    "y_train = train[\"y\"]\n",
    "\n",
    "X_test = test.ix[:,\"V1\":\"V280\"]\n",
    "y_test = test[\"y\"]\n",
    "\n",
    "y_train_log = np.log(train[\"y\"]+1)\n",
    "y_test_log = np.log(test[\"y\"]+1)"
   ]
  },
  {
   "cell_type": "markdown",
   "metadata": {},
   "source": [
    "# Evaluation"
   ]
  },
  {
   "cell_type": "code",
   "execution_count": 33,
   "metadata": {
    "collapsed": true
   },
   "outputs": [],
   "source": [
    "def eva(test_pred, test_real):\n",
    "    return ((test_real-test_pred)**2).mean()"
   ]
  },
  {
   "cell_type": "markdown",
   "metadata": {},
   "source": [
    "# Feature transformation and feature engineering"
   ]
  },
  {
   "cell_type": "code",
   "execution_count": 34,
   "metadata": {
    "collapsed": true
   },
   "outputs": [],
   "source": [
    "group = [[1,6,11,16,21],\n",
    "        [2,7,12,17,22],\n",
    "        [3,8,13,18,23],\n",
    "        [4,9,14,19,24],\n",
    "        [5,10,15,20,25],\n",
    "        [26,31,36,41,46],\n",
    "        [27,32,37,42,47],\n",
    "        [28,33,38,43,48],\n",
    "        [29,34,39,44,49],\n",
    "        [30,35,40,45,50],\n",
    "        [51,52,53,54,55],\n",
    "        [56,57,58,59,60],\n",
    "        [61,62],\n",
    "        list(range(63,263)),\n",
    "        [263,264,265,266,267,268,269],\n",
    "        [270,271,272,273,274,275,276],\n",
    "        [277,278,279,280]]\n",
    "\n",
    "# remove_col = np.arange(63,263)\n",
    "# remove_column = [\"V%i\" % i for i in remove_col]\n",
    "# newXTrain = X_train.drop(remove_column,axis=1)\n",
    "# newXTest = X_test.drop(remove_column,axis=1)\n",
    "\n",
    "drop_group = [5,7,6,9,1,2,8,13]\n",
    "remove_col = []\n",
    "for i in drop_group:\n",
    "    remove_col += group[i]\n",
    "remove_col = ['V'+str(x) for x in remove_col]\n",
    "newXTrain = X_train.drop(remove_col, axis=1)\n",
    "newXTest = X_test.drop(remove_col, axis=1)\n",
    "\n",
    "# 52/51\n",
    "# N1_train = newXTrain[\"V52\"].as_matrix()/newXTrain[\"V51\"].as_matrix()\n",
    "# N1_test = newXTest[\"V52\"].as_matrix()/newXTest[\"V51\"].as_matrix()\n",
    "# newXTrain[\"N1\"] = N1_train\n",
    "# newXTest[\"N1\"] = N1_test\n",
    "\n",
    "#53/51\n",
    "N2_train = newXTrain[\"V53\"].as_matrix()/newXTrain[\"V51\"].as_matrix()\n",
    "N2_test = newXTest[\"V53\"].as_matrix()/newXTest[\"V51\"].as_matrix()\n",
    "newXTrain[\"N2\"] = N2_train\n",
    "newXTest[\"N2\"] = N2_test\n",
    "\n",
    "#54/51\n",
    "N3_train = newXTrain[\"V54\"].as_matrix()/newXTrain[\"V51\"].as_matrix()\n",
    "N3_test = newXTest[\"V54\"].as_matrix()/newXTest[\"V51\"].as_matrix()\n",
    "newXTrain[\"N3\"] = N3_train\n",
    "newXTest[\"N3\"] = N3_test\n",
    "\n",
    "\n",
    "#52/53\n",
    "N4_train = newXTrain[\"V53\"].as_matrix()/newXTrain[\"V52\"].as_matrix()\n",
    "N4_test = newXTest[\"V53\"].as_matrix()/newXTest[\"V52\"].as_matrix()\n",
    "newXTrain[\"N4\"] = N4_train\n",
    "newXTest[\"N4\"] = N4_test\n",
    "\n",
    "#54/51\n",
    "N5_train = newXTrain[\"V52\"].as_matrix()/newXTrain[\"V54\"].as_matrix()\n",
    "N5_test = newXTest[\"V52\"].as_matrix()/newXTest[\"V54\"].as_matrix()\n",
    "newXTrain[\"N5\"] = N5_train\n",
    "newXTest[\"N5\"] = N5_test\n",
    "\n",
    "# 57/56\n",
    "N6_train = newXTrain[\"V57\"].as_matrix()/newXTrain[\"V56\"].as_matrix()\n",
    "N6_test = newXTest[\"V57\"].as_matrix()/newXTest[\"V56\"].as_matrix()\n",
    "newXTrain[\"N6\"] = N6_train\n",
    "newXTest[\"N6\"] = N6_test\n",
    "\n",
    "#58/56\n",
    "N7_train = newXTrain[\"V58\"].as_matrix()/newXTrain[\"V56\"].as_matrix()\n",
    "N7_test = newXTest[\"V58\"].as_matrix()/newXTest[\"V56\"].as_matrix()\n",
    "newXTrain[\"N7\"] = N7_train\n",
    "newXTest[\"N7\"] = N7_test\n",
    "\n",
    "#59/56\n",
    "N8_train = newXTrain[\"V59\"].as_matrix()/newXTrain[\"V56\"].as_matrix()\n",
    "N8_test = newXTest[\"V59\"].as_matrix()/newXTest[\"V56\"].as_matrix()\n",
    "newXTrain[\"N8\"] = N8_train\n",
    "newXTest[\"N8\"] = N8_test\n",
    "\n",
    "#57/58\n",
    "N9_train = newXTrain[\"V57\"].as_matrix()/newXTrain[\"V58\"].as_matrix()\n",
    "N9_test = newXTest[\"V57\"].as_matrix()/newXTest[\"V58\"].as_matrix()\n",
    "newXTrain[\"N9\"] = N9_train\n",
    "newXTest[\"N9\"] = N9_test\n",
    "\n",
    "#59/56\n",
    "N10_train = newXTrain[\"V59\"].as_matrix()/newXTrain[\"V56\"].as_matrix()\n",
    "N10_test = newXTest[\"V59\"].as_matrix()/newXTest[\"V56\"].as_matrix()\n",
    "newXTrain[\"N10\"] = N10_train\n",
    "newXTest[\"N10\"] = N10_test\n",
    "\n",
    "# 61 <> 24\n",
    "N11_train = (newXTrain[\"V61\"].as_matrix()>24)*1\n",
    "N11_test = (newXTest[\"V61\"].as_matrix()>24)*1\n",
    "newXTrain[\"N11\"] = N11_train\n",
    "newXTest[\"N11\"] = N11_test\n",
    "\n",
    "# 62/61\n",
    "N12_train = newXTrain[\"V62\"].as_matrix()/newXTrain[\"V61\"].as_matrix()\n",
    "N12_test = newXTest[\"V62\"].as_matrix()/newXTest[\"V61\"].as_matrix()\n",
    "newXTrain[\"N12\"] = N12_train\n",
    "newXTest[\"N12\"] = N12_test\n",
    "# 1 -> weekend, 1 -> weekday\n",
    "pubWeekendTrain = newXTrain.ix[:,\"V268\":\"V269\"].apply(lambda x:x.sum(),axis = 1)\n",
    "pubWeekendTest = newXTest.ix[:,\"V268\":\"V269\"].apply(lambda x:x.sum(),axis = 1)\n",
    "\n",
    "# 1 -> weekend, 1 -> weekday\n",
    "bsWeekendTrain = newXTrain.ix[:,\"V275\":\"V276\"].apply(lambda x:x.sum(),axis = 1)\n",
    "bsWeekendTest = newXTest.ix[:,\"V275\":\"V276\"].apply(lambda x:x.sum(),axis = 1)\n",
    "\n",
    "pubBsDayTrain = pd.concat([pubWeekendTrain,bsWeekendTrain],axis=1)\n",
    "pubBsDayTest = pd.concat([pubWeekendTest,bsWeekendTest],axis=1)\n",
    "\n",
    "N13_train = pubBsDayTrain.apply(lambda x: ((x[0]==1) & (x[1]==1))*1, axis=1)\n",
    "N14_train = pubBsDayTrain.apply(lambda x: ((x[0]==1) & (x[1]==0))*1, axis=1)\n",
    "N15_train = pubBsDayTrain.apply(lambda x: ((x[0]==0) & (x[1]==1))*1, axis=1)\n",
    "N16_train = pubBsDayTrain.apply(lambda x: ((x[0]==0) & (x[1]==0))*1, axis=1)\n",
    "\n",
    "N13_test = pubBsDayTest.apply(lambda x: ((x[0]==1) & (x[1]==1))*1, axis=1)\n",
    "N14_test = pubBsDayTest.apply(lambda x: ((x[0]==1) & (x[1]==0))*1, axis=1)\n",
    "N15_test = pubBsDayTest.apply(lambda x: ((x[0]==0) & (x[1]==1))*1, axis=1)\n",
    "N16_test = pubBsDayTest.apply(lambda x: ((x[0]==0) & (x[1]==0))*1, axis=1)\n",
    "\n",
    "newXTrain[\"N13\"] = N13_train\n",
    "newXTest[\"N13\"] = N13_test\n",
    "\n",
    "newXTrain[\"N14\"] = N14_train\n",
    "newXTest[\"N14\"] = N14_test\n",
    "\n",
    "newXTrain[\"N15\"] = N15_train\n",
    "newXTest[\"N15\"] = N15_test\n",
    "\n",
    "newXTrain[\"N16\"] = N16_train\n",
    "newXTest[\"N16\"] = N16_test\n",
    "\n",
    "newXTrain = newXTrain.fillna(-1)\n",
    "newXTest = newXTest.fillna(-1)\n",
    "\n",
    "newXTrain = newXTrain.replace([np.inf, -np.inf], 10000)\n",
    "newXTest = newXTest.replace([np.inf, -np.inf], 10000)\n",
    "\n",
    "# adding interactions\n",
    "f = open(\"../Data/add_interaction.txt\", \"r\")\n",
    "for inter_var in f.readlines():\n",
    "    inter_var = inter_var.strip()\n",
    "    new_col_name = inter_var\n",
    "    inter_var = inter_var.split('_')\n",
    "    # add new column for train data\n",
    "    X_train_new_col =newXTrain[inter_var[0]]\n",
    "    for var in inter_var[1:]:\n",
    "        X_train_new_col = X_train_new_col * newXTrain[var]\n",
    "    newXTrain[new_col_name] = X_train_new_col\n",
    "    # add new column for test data\n",
    "    X_test_new_col = newXTest[inter_var[0]]\n",
    "    for var in inter_var[1:]:\n",
    "        X_test_new_col = X_test_new_col * newXTest[var]\n",
    "    newXTest[new_col_name] = X_test_new_col\n",
    "f.close()"
   ]
  },
  {
   "cell_type": "markdown",
   "metadata": {},
   "source": [
    "# Model Experiment"
   ]
  },
  {
   "cell_type": "markdown",
   "metadata": {},
   "source": [
    "### Gradient Boosting tree"
   ]
  },
  {
   "cell_type": "code",
   "execution_count": 10,
   "metadata": {
    "collapsed": false,
    "scrolled": true
   },
   "outputs": [],
   "source": [
    "RANDOM_STATE = 42\n",
    "\n",
    "params = {\n",
    "    'min_child_weight': 1,\n",
    "    'eta': 0.01,\n",
    "    'colsample_bytree': 1,\n",
    "    'max_depth': 12,\n",
    "    'subsample': 0.2,\n",
    "    'reg_alpha': 1,\n",
    "    'gamma': 0.04,\n",
    "    'silent':True,\n",
    "#     \"verbose_eval\":10,\n",
    "#     \"eval_metric\":\"rmse\",\n",
    "    'seed': RANDOM_STATE\n",
    "}\n",
    "\n",
    "# data preparation and model training \n",
    "xgtrain = xgb.DMatrix(newXTrain, label=y_train_log)\n",
    "xgval = xgb.DMatrix(newXTest, label=y_test_log)\n",
    "xgtest = xgb.DMatrix(newXTest)\n",
    "# xgtrain = xgb.DMatrix(X_train, label=y_train_log)\n",
    "# xgtest = xgb.DMatrix(X_test)\n",
    "gb_model = xgb.train(params,\n",
    "                     num_boost_round = 450,\n",
    "                     dtrain=xgtrain, \n",
    "#                      obj=fair_obj,\n",
    "                     evals=[(xgval,\"validation\")], \n",
    "                     early_stopping_rounds = 40\n",
    "                     )\n",
    "# model prediction and evaluation\n",
    "gb_pred = gb_model.predict(xgtest)"
   ]
  },
  {
   "cell_type": "code",
   "execution_count": 41,
   "metadata": {
    "collapsed": false
   },
   "outputs": [
    {
     "data": {
      "text/plain": [
       "0.37127636128989144"
      ]
     },
     "execution_count": 41,
     "metadata": {},
     "output_type": "execute_result"
    }
   ],
   "source": [
    "eva(gb_pred,y_test_log.as_matrix())"
   ]
  },
  {
   "cell_type": "markdown",
   "metadata": {},
   "source": [
    "Generating the loss curve"
   ]
  },
  {
   "cell_type": "code",
   "execution_count": 9,
   "metadata": {
    "collapsed": false
   },
   "outputs": [],
   "source": [
    "gb_test_pred = []\n",
    "ntree = 600\n",
    "for i in range(1,ntree+1):\n",
    "    gb_pred = gb_model.predict(xgb.DMatrix(newXTest),ntree_limit=i)\n",
    "    gb_test_pred.append(eva(gb_pred,y_test_log.as_matrix()))\n",
    "\n",
    "gb_train_pred = []\n",
    "for i in range(1,ntree+1):\n",
    "    gb_pred = gb_model.predict(xgb.DMatrix(newXTrain),ntree_limit=i)\n",
    "    gb_train_pred.append(eva(gb_pred,y_train_log.as_matrix()))\n",
    "\n",
    "gb_nofeature_pred = []\n",
    "ntree = 600\n",
    "for i in range(1,ntree+1):\n",
    "    gb_pred = gb_model.predict(xgb.DMatrix(X_test),ntree_limit=i)\n",
    "    gb_nofeature_pred.append(eva(gb_pred,y_test_log.as_matrix()))"
   ]
  },
  {
   "cell_type": "code",
   "execution_count": 33,
   "metadata": {
    "collapsed": false
   },
   "outputs": [
    {
     "data": {
      "image/png": "[encoded data removed]",
      "text/plain": [
       "<matplotlib.figure.Figure at 0x7f57ac323358>"
      ]
     },
     "metadata": {},
     "output_type": "display_data"
    }
   ],
   "source": [
    "# plot evaluation\n",
    "plt.figure(figsize=(16,9))\n",
    "plt.plot(range(1,ntree+1),gb_test_pred,label = \"test loss with feature engineering\",lw=3);\n",
    "plt.plot(range(1,ntree+1),gb_train_pred,label = \"train loss with feature engineering\",lw=3);\n",
    "plt.plot(range(1,ntree+1),gb_nofeature_pred,label = \"test loss without feature engineering\",lw=3);\n",
    "plt.legend(fontsize=20);\n",
    "plt.title(\"Loss value of train and test\", fontsize=20);\n",
    "plt.xticks(fontsize=20);\n",
    "plt.yticks(fontsize=20);\n",
    "plt.xlabel(\"N_trees\", fontsize=20);\n",
    "plt.ylabel(\"Loss value\", fontsize=20);\n",
    "plt.savefig(\"/home/peiran/Semester3/STAT542/Project/Report/loss_value.png\");"
   ]
  },
  {
   "cell_type": "markdown",
   "metadata": {},
   "source": [
    "### Random Forest"
   ]
  },
  {
   "cell_type": "code",
   "execution_count": 12,
   "metadata": {
    "collapsed": false,
    "scrolled": true
   },
   "outputs": [],
   "source": [
    "from sklearn.ensemble import RandomForestRegressor\n",
    "\n",
    "# parameters\n",
    "params = {\n",
    "    \"n_estimators\":1000,\n",
    "    \"criterion\":'mse',\n",
    "    \"max_depth\":12,\n",
    "    \"max_features\":\"auto\",\n",
    "    \"min_samples_split\":2,\n",
    "    \"min_impurity_split\":0.01,\n",
    "    \"n_jobs\":-1,\n",
    "    \"random_state\":42,\n",
    "    \"verbose\":3,\n",
    "}\n",
    "\n",
    "rft_model = RandomForestRegressor(**params)\n",
    "rft_model.fit(newXTrain,y_train_log)\n",
    "rft_pred = rft_model.predict(newXTest)"
   ]
  },
  {
   "cell_type": "code",
   "execution_count": 8,
   "metadata": {
    "collapsed": false
   },
   "outputs": [
    {
     "data": {
      "text/plain": [
       "0.38756546532578917"
      ]
     },
     "execution_count": 8,
     "metadata": {},
     "output_type": "execute_result"
    }
   ],
   "source": [
    "eva(rft_pred, y_test_log)"
   ]
  },
  {
   "cell_type": "markdown",
   "metadata": {},
   "source": [
    "Feature importance"
   ]
  },
  {
   "cell_type": "code",
   "execution_count": 6,
   "metadata": {
    "collapsed": false
   },
   "outputs": [],
   "source": [
    "importance = rft_model.feature_importances_\n",
    "features = newXTrain.columns"
   ]
  },
  {
   "cell_type": "code",
   "execution_count": 7,
   "metadata": {
    "collapsed": true
   },
   "outputs": [],
   "source": [
    "def plot_30_importance(importance,features):\n",
    "    imp_table = pd.DataFrame({\"importance\":importance,\"features\":features})\n",
    "    imp_10_table = imp_table.sort_values(ascending = False,by=\"importance\")[0:30]\n",
    "    sns.barplot(x=imp_10_table[\"features\"],y=imp_10_table[\"importance\"],color=\"black\")"
   ]
  },
  {
   "cell_type": "code",
   "execution_count": 8,
   "metadata": {
    "collapsed": false
   },
   "outputs": [
    {
     "data": {
      "image/png": "[encoded data removed]",
      "text/plain": [
       "<matplotlib.figure.Figure at 0x7efdb5265748>"
      ]
     },
     "metadata": {},
     "output_type": "display_data"
    }
   ],
   "source": [
    "plt.figure(figsize = (16,9))\n",
    "plot_30_importance(importance,features)\n",
    "plt.title(\"Top 30 most importance features after feature engineering\",fontsize=15);\n",
    "plt.xlabel(\"Feature name\",fontsize=15);\n",
    "plt.ylabel(\"Importance\",fontsize=15);\n",
    "plt.xticks(rotation='vertical',fontsize=15);\n",
    "plt.savefig(\"/home/peiran/Semester3/STAT542/Project/Report/rft_importance_final.png\");"
   ]
  },
  {
   "cell_type": "markdown",
   "metadata": {},
   "source": [
    "### KNN"
   ]
  },
  {
   "cell_type": "code",
   "execution_count": 9,
   "metadata": {
    "collapsed": true
   },
   "outputs": [],
   "source": [
    "from sklearn.neighbors import KNeighborsRegressor\n",
    "\n",
    "neigh = KNeighborsRegressor(n_neighbors=20,n_jobs=-1)\n",
    "neigh.fit(newXTrain, y_train_log) \n",
    "knn_pred = neigh.predict(newXTest)"
   ]
  },
  {
   "cell_type": "code",
   "execution_count": 10,
   "metadata": {
    "collapsed": false
   },
   "outputs": [
    {
     "data": {
      "text/plain": [
       "0.6323957871770662"
      ]
     },
     "execution_count": 10,
     "metadata": {},
     "output_type": "execute_result"
    }
   ],
   "source": [
    "eva(knn_pred, y_test_log)"
   ]
  },
  {
   "cell_type": "markdown",
   "metadata": {},
   "source": [
    "### Neural Network"
   ]
  },
  {
   "cell_type": "code",
   "execution_count": 28,
   "metadata": {
    "collapsed": false
   },
   "outputs": [],
   "source": [
    "# keras\n",
    "from keras.models import Sequential\n",
    "from keras.layers import Dense,Activation\n",
    "from keras.wrappers.scikit_learn import KerasRegressor\n",
    "from keras.optimizers import RMSprop\n",
    "from keras.layers.normalization import BatchNormalization\n",
    "from keras.regularizers import l1,l2\n",
    "from keras.layers import Dense, Dropout, Activation\n",
    "from keras.callbacks import EarlyStopping\n",
    "from keras.layers.advanced_activations import PReLU\n",
    "from keras.optimizers import RMSprop\n",
    "from keras.utils.np_utils import to_categorical"
   ]
  },
  {
   "cell_type": "markdown",
   "metadata": {},
   "source": [
    "Neural network architecture"
   ]
  },
  {
   "cell_type": "code",
   "execution_count": 29,
   "metadata": {
    "collapsed": true
   },
   "outputs": [],
   "source": [
    "def NN():\n",
    "    model = Sequential()\n",
    "    model.add(Dense(512,init = 'he_normal',input_shape = [newXTrain.shape[1],]))\n",
    "    model.add(BatchNormalization())\n",
    "    model.add(PReLU())\n",
    "    model.add(Dropout(0.4))\n",
    "    \n",
    "    model.add(Dense(256, init = 'he_normal')) \n",
    "    model.add(BatchNormalization())  \n",
    "    model.add(PReLU()) \n",
    "    model.add(Dropout(0.2))\n",
    "    \n",
    "    model.add(Dense(256, init = 'he_normal')) \n",
    "    model.add(BatchNormalization())  \n",
    "    model.add(PReLU()) \n",
    "    model.add(Dropout(0.2))\n",
    "\n",
    "    model.add(Dense(50, init = 'he_normal')) \n",
    "    model.add(BatchNormalization())\n",
    "    model.add(PReLU())  \n",
    "    \n",
    "    model.add(Dense(1, init='he_normal'))\n",
    "    model.compile(loss='mean_squared_error', optimizer = \"adadelta\")\n",
    "    return(model)"
   ]
  },
  {
   "cell_type": "markdown",
   "metadata": {},
   "source": [
    "Neural network fitting \n",
    "\n",
    "The model is fitted on all the features without the interaction items and word features"
   ]
  },
  {
   "cell_type": "code",
   "execution_count": 38,
   "metadata": {
    "collapsed": false,
    "scrolled": true
   },
   "outputs": [],
   "source": [
    "model = NN()\n",
    "nepochs = 1000\n",
    "early_stopping = EarlyStopping(monitor='val_loss', patience=15)\n",
    "\n",
    "model.fit(newXTrain.as_matrix(), y_train_log, validation_data = (newXTest.as_matrix(),y_test_log)\n",
    "          , nb_epoch=nepochs, batch_size=300,callbacks=[early_stopping])"
   ]
  },
  {
   "cell_type": "markdown",
   "metadata": {},
   "source": [
    "evaluation"
   ]
  },
  {
   "cell_type": "code",
   "execution_count": 37,
   "metadata": {
    "collapsed": false
   },
   "outputs": [],
   "source": [
    "nn_pred = model.predict(newXTest.as_matrix()).reshape(-1)\n",
    "eva(nn_pred, y_test_log)"
   ]
  },
  {
   "cell_type": "markdown",
   "metadata": {},
   "source": [
    "# Model Ensemble"
   ]
  },
  {
   "cell_type": "code",
   "execution_count": 1,
   "metadata": {
    "collapsed": true
   },
   "outputs": [],
   "source": [
    "from sklearn.cross_validation import KFold\n",
    "## cv-folds\n",
    "nfolds = 8\n",
    "folds = KFold(len(y_train_log), n_folds = nfolds, shuffle = True, random_state = 42)\n",
    "\n",
    "model_group = []\n",
    "pred = []\n",
    "\n",
    "for (Tr, Te) in folds:\n",
    "    train_x = newXTrain.ix[Tr,:]\n",
    "    train_y = y_train_log[Tr]\n",
    "    test_x = newXTrain.ix[Te,:]\n",
    "    test_y = y_train_log[Te]\n",
    "    \n",
    "    params = {\n",
    "    'min_child_weight': 1,\n",
    "    'eta': 0.01,\n",
    "    'colsample_bytree': 1,\n",
    "    'max_depth': 12,\n",
    "    'subsample': 0.2,\n",
    "    'reg_alpha': 1,\n",
    "    'gamma': 0.04,\n",
    "    'silent':True,\n",
    "    \"eval_metric\":\"rmse\"}\n",
    "    \n",
    "    xgtrain = xgb.DMatrix(train_x, label=train_y)\n",
    "    xgtest = xgb.DMatrix(newXTest)\n",
    "    xgval = xgb.DMatrix(test_x, label=test_y)\n",
    "    gb_model = xgb.train(params, \n",
    "                     dtrain=xgtrain, \n",
    "                     verbose_eval = 50,\n",
    "                     evals=[(xgval,\"validation\")], \n",
    "                     early_stopping_rounds = 30,\n",
    "                     num_boost_round = 2000)\n",
    "\n",
    "    # model prediction and evaluation\n",
    "    gb_pred = gb_model.predict(xgtest)\n",
    "    # model will stop if overfit on the test data\n",
    "    pred.append(gb_pred)\n",
    "    model_group.append(gb_model)"
   ]
  },
  {
   "cell_type": "markdown",
   "metadata": {},
   "source": [
    "evaluation"
   ]
  },
  {
   "cell_type": "code",
   "execution_count": 47,
   "metadata": {
    "collapsed": false
   },
   "outputs": [
    {
     "data": {
      "text/plain": [
       "0.3698531053293141"
      ]
     },
     "execution_count": 47,
     "metadata": {},
     "output_type": "execute_result"
    }
   ],
   "source": [
    "gb_pred = np.array(pred).mean(0)\n",
    "eva(gb_pred,y_test_log)"
   ]
  }
 ],
 "metadata": {
  "anaconda-cloud": {},
  "kernelspec": {
   "display_name": "Python [Root]",
   "language": "python",
   "name": "Python [Root]"
  },
  "language_info": {
   "codemirror_mode": {
    "name": "ipython",
    "version": 3
   },
   "file_extension": ".py",
   "mimetype": "text/x-python",
   "name": "python",
   "nbconvert_exporter": "python",
   "pygments_lexer": "ipython3",
   "version": "3.5.2"
  }
 },
 "nbformat": 4,
 "nbformat_minor": 0
}
