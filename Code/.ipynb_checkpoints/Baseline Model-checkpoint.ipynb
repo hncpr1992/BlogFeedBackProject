{
 "cells": [
  {
   "cell_type": "markdown",
   "metadata": {},
   "source": [
    "# Model gallary\n",
    "\n",
    "In this notebook, we will try different models on the train and test data set with little assumptions and tunings.\n",
    "We just try to build a gallary of models for future improvemnet"
   ]
  },
  {
   "cell_type": "markdown",
   "metadata": {},
   "source": [
    "## Basic Packages"
   ]
  },
  {
   "cell_type": "code",
   "execution_count": 1,
   "metadata": {
    "collapsed": true
   },
   "outputs": [],
   "source": [
    "from __future__ import print_function\n",
    "import numpy as np\n",
    "import pandas as pd\n",
    "import matplotlib.pyplot as plt\n",
    "import seaborn as sns\n",
    "sns.set_context(\"talk\")\n",
    "\n",
    "%matplotlib inline\n",
    "pd.options.display.max_columns = 200\n",
    "pd.options.display.max_rows = 1000"
   ]
  },
  {
   "cell_type": "markdown",
   "metadata": {},
   "source": [
    "## Load data"
   ]
  },
  {
   "cell_type": "code",
   "execution_count": 2,
   "metadata": {
    "collapsed": true
   },
   "outputs": [],
   "source": [
    "train = pd.read_csv(\"../Data/blogData_train.csv\",header=None)\n",
    "test = pd.read_csv(\"../Data/blogData_test.csv\",header=None)\n",
    "\n",
    "# rename\n",
    "names = [\"V%i\" % i if i != 281 else \"y\" for i in range(1,282)]\n",
    "train.columns = names\n",
    "test.columns = names"
   ]
  },
  {
   "cell_type": "code",
   "execution_count": 3,
   "metadata": {
    "collapsed": false
   },
   "outputs": [
    {
     "data": {
      "text/html": [
       "<div>\n",
       "<table border=\"1\" class=\"dataframe\">\n",
       "  <thead>\n",
       "    <tr style=\"text-align: right;\">\n",
       "      <th></th>\n",
       "      <th>V1</th>\n",
       "      <th>V2</th>\n",
       "      <th>V3</th>\n",
       "      <th>V4</th>\n",
       "      <th>V5</th>\n",
       "      <th>V6</th>\n",
       "      <th>V7</th>\n",
       "      <th>V8</th>\n",
       "      <th>V9</th>\n",
       "      <th>V10</th>\n",
       "      <th>V11</th>\n",
       "      <th>V12</th>\n",
       "      <th>V13</th>\n",
       "      <th>V14</th>\n",
       "      <th>V15</th>\n",
       "      <th>V16</th>\n",
       "      <th>V17</th>\n",
       "      <th>V18</th>\n",
       "      <th>V19</th>\n",
       "      <th>V20</th>\n",
       "      <th>V21</th>\n",
       "      <th>V22</th>\n",
       "      <th>V23</th>\n",
       "      <th>V24</th>\n",
       "      <th>V25</th>\n",
       "      <th>V26</th>\n",
       "      <th>V27</th>\n",
       "      <th>V28</th>\n",
       "      <th>V29</th>\n",
       "      <th>V30</th>\n",
       "      <th>V31</th>\n",
       "      <th>V32</th>\n",
       "      <th>V33</th>\n",
       "      <th>V34</th>\n",
       "      <th>V35</th>\n",
       "      <th>V36</th>\n",
       "      <th>V37</th>\n",
       "      <th>V38</th>\n",
       "      <th>V39</th>\n",
       "      <th>V40</th>\n",
       "      <th>V41</th>\n",
       "      <th>V42</th>\n",
       "      <th>V43</th>\n",
       "      <th>V44</th>\n",
       "      <th>V45</th>\n",
       "      <th>V46</th>\n",
       "      <th>V47</th>\n",
       "      <th>V48</th>\n",
       "      <th>V49</th>\n",
       "      <th>V50</th>\n",
       "      <th>V51</th>\n",
       "      <th>V52</th>\n",
       "      <th>V53</th>\n",
       "      <th>V54</th>\n",
       "      <th>V55</th>\n",
       "      <th>V56</th>\n",
       "      <th>V57</th>\n",
       "      <th>V58</th>\n",
       "      <th>V59</th>\n",
       "      <th>V60</th>\n",
       "      <th>V61</th>\n",
       "      <th>V62</th>\n",
       "      <th>V63</th>\n",
       "      <th>V64</th>\n",
       "      <th>V65</th>\n",
       "      <th>V66</th>\n",
       "      <th>V67</th>\n",
       "      <th>V68</th>\n",
       "      <th>V69</th>\n",
       "      <th>V70</th>\n",
       "      <th>V71</th>\n",
       "      <th>V72</th>\n",
       "      <th>V73</th>\n",
       "      <th>V74</th>\n",
       "      <th>V75</th>\n",
       "      <th>V76</th>\n",
       "      <th>V77</th>\n",
       "      <th>V78</th>\n",
       "      <th>V79</th>\n",
       "      <th>V80</th>\n",
       "      <th>V81</th>\n",
       "      <th>V82</th>\n",
       "      <th>V83</th>\n",
       "      <th>V84</th>\n",
       "      <th>V85</th>\n",
       "      <th>V86</th>\n",
       "      <th>V87</th>\n",
       "      <th>V88</th>\n",
       "      <th>V89</th>\n",
       "      <th>V90</th>\n",
       "      <th>V91</th>\n",
       "      <th>V92</th>\n",
       "      <th>V93</th>\n",
       "      <th>V94</th>\n",
       "      <th>V95</th>\n",
       "      <th>V96</th>\n",
       "      <th>V97</th>\n",
       "      <th>V98</th>\n",
       "      <th>V99</th>\n",
       "      <th>V100</th>\n",
       "      <th>...</th>\n",
       "      <th>V182</th>\n",
       "      <th>V183</th>\n",
       "      <th>V184</th>\n",
       "      <th>V185</th>\n",
       "      <th>V186</th>\n",
       "      <th>V187</th>\n",
       "      <th>V188</th>\n",
       "      <th>V189</th>\n",
       "      <th>V190</th>\n",
       "      <th>V191</th>\n",
       "      <th>V192</th>\n",
       "      <th>V193</th>\n",
       "      <th>V194</th>\n",
       "      <th>V195</th>\n",
       "      <th>V196</th>\n",
       "      <th>V197</th>\n",
       "      <th>V198</th>\n",
       "      <th>V199</th>\n",
       "      <th>V200</th>\n",
       "      <th>V201</th>\n",
       "      <th>V202</th>\n",
       "      <th>V203</th>\n",
       "      <th>V204</th>\n",
       "      <th>V205</th>\n",
       "      <th>V206</th>\n",
       "      <th>V207</th>\n",
       "      <th>V208</th>\n",
       "      <th>V209</th>\n",
       "      <th>V210</th>\n",
       "      <th>V211</th>\n",
       "      <th>V212</th>\n",
       "      <th>V213</th>\n",
       "      <th>V214</th>\n",
       "      <th>V215</th>\n",
       "      <th>V216</th>\n",
       "      <th>V217</th>\n",
       "      <th>V218</th>\n",
       "      <th>V219</th>\n",
       "      <th>V220</th>\n",
       "      <th>V221</th>\n",
       "      <th>V222</th>\n",
       "      <th>V223</th>\n",
       "      <th>V224</th>\n",
       "      <th>V225</th>\n",
       "      <th>V226</th>\n",
       "      <th>V227</th>\n",
       "      <th>V228</th>\n",
       "      <th>V229</th>\n",
       "      <th>V230</th>\n",
       "      <th>V231</th>\n",
       "      <th>V232</th>\n",
       "      <th>V233</th>\n",
       "      <th>V234</th>\n",
       "      <th>V235</th>\n",
       "      <th>V236</th>\n",
       "      <th>V237</th>\n",
       "      <th>V238</th>\n",
       "      <th>V239</th>\n",
       "      <th>V240</th>\n",
       "      <th>V241</th>\n",
       "      <th>V242</th>\n",
       "      <th>V243</th>\n",
       "      <th>V244</th>\n",
       "      <th>V245</th>\n",
       "      <th>V246</th>\n",
       "      <th>V247</th>\n",
       "      <th>V248</th>\n",
       "      <th>V249</th>\n",
       "      <th>V250</th>\n",
       "      <th>V251</th>\n",
       "      <th>V252</th>\n",
       "      <th>V253</th>\n",
       "      <th>V254</th>\n",
       "      <th>V255</th>\n",
       "      <th>V256</th>\n",
       "      <th>V257</th>\n",
       "      <th>V258</th>\n",
       "      <th>V259</th>\n",
       "      <th>V260</th>\n",
       "      <th>V261</th>\n",
       "      <th>V262</th>\n",
       "      <th>V263</th>\n",
       "      <th>V264</th>\n",
       "      <th>V265</th>\n",
       "      <th>V266</th>\n",
       "      <th>V267</th>\n",
       "      <th>V268</th>\n",
       "      <th>V269</th>\n",
       "      <th>V270</th>\n",
       "      <th>V271</th>\n",
       "      <th>V272</th>\n",
       "      <th>V273</th>\n",
       "      <th>V274</th>\n",
       "      <th>V275</th>\n",
       "      <th>V276</th>\n",
       "      <th>V277</th>\n",
       "      <th>V278</th>\n",
       "      <th>V279</th>\n",
       "      <th>V280</th>\n",
       "      <th>y</th>\n",
       "    </tr>\n",
       "  </thead>\n",
       "  <tbody>\n",
       "    <tr>\n",
       "      <th>0</th>\n",
       "      <td>40.30467</td>\n",
       "      <td>53.845657</td>\n",
       "      <td>0.0</td>\n",
       "      <td>401.0</td>\n",
       "      <td>15.0</td>\n",
       "      <td>15.52416</td>\n",
       "      <td>32.44188</td>\n",
       "      <td>0.0</td>\n",
       "      <td>377.0</td>\n",
       "      <td>3.0</td>\n",
       "      <td>14.044226</td>\n",
       "      <td>32.615417</td>\n",
       "      <td>0.0</td>\n",
       "      <td>377.0</td>\n",
       "      <td>2.0</td>\n",
       "      <td>34.567566</td>\n",
       "      <td>48.475178</td>\n",
       "      <td>0.0</td>\n",
       "      <td>378.0</td>\n",
       "      <td>12.0</td>\n",
       "      <td>1.479934</td>\n",
       "      <td>46.18691</td>\n",
       "      <td>-356.0</td>\n",
       "      <td>377.0</td>\n",
       "      <td>0.0</td>\n",
       "      <td>1.076167</td>\n",
       "      <td>1.795416</td>\n",
       "      <td>0.0</td>\n",
       "      <td>11.0</td>\n",
       "      <td>0.0</td>\n",
       "      <td>0.400491</td>\n",
       "      <td>1.078097</td>\n",
       "      <td>0.0</td>\n",
       "      <td>9.0</td>\n",
       "      <td>0.0</td>\n",
       "      <td>0.377559</td>\n",
       "      <td>1.07421</td>\n",
       "      <td>0.0</td>\n",
       "      <td>9.0</td>\n",
       "      <td>0.0</td>\n",
       "      <td>0.972973</td>\n",
       "      <td>1.704671</td>\n",
       "      <td>0.0</td>\n",
       "      <td>10.0</td>\n",
       "      <td>0.0</td>\n",
       "      <td>0.022932</td>\n",
       "      <td>1.521174</td>\n",
       "      <td>-8.0</td>\n",
       "      <td>9.0</td>\n",
       "      <td>0.0</td>\n",
       "      <td>2.0</td>\n",
       "      <td>2.0</td>\n",
       "      <td>0.0</td>\n",
       "      <td>2.0</td>\n",
       "      <td>2.0</td>\n",
       "      <td>0.0</td>\n",
       "      <td>0.0</td>\n",
       "      <td>0.0</td>\n",
       "      <td>0.0</td>\n",
       "      <td>0.0</td>\n",
       "      <td>10.0</td>\n",
       "      <td>0.0</td>\n",
       "      <td>0.0</td>\n",
       "      <td>0.0</td>\n",
       "      <td>0.0</td>\n",
       "      <td>0.0</td>\n",
       "      <td>0.0</td>\n",
       "      <td>0.0</td>\n",
       "      <td>0.0</td>\n",
       "      <td>0.0</td>\n",
       "      <td>0.0</td>\n",
       "      <td>0.0</td>\n",
       "      <td>0.0</td>\n",
       "      <td>0.0</td>\n",
       "      <td>0.0</td>\n",
       "      <td>0.0</td>\n",
       "      <td>0.0</td>\n",
       "      <td>0.0</td>\n",
       "      <td>0.0</td>\n",
       "      <td>0.0</td>\n",
       "      <td>0.0</td>\n",
       "      <td>0.0</td>\n",
       "      <td>0.0</td>\n",
       "      <td>0.0</td>\n",
       "      <td>0.0</td>\n",
       "      <td>0.0</td>\n",
       "      <td>0.0</td>\n",
       "      <td>0.0</td>\n",
       "      <td>0.0</td>\n",
       "      <td>0.0</td>\n",
       "      <td>0.0</td>\n",
       "      <td>0.0</td>\n",
       "      <td>0.0</td>\n",
       "      <td>0.0</td>\n",
       "      <td>0.0</td>\n",
       "      <td>0.0</td>\n",
       "      <td>0.0</td>\n",
       "      <td>0.0</td>\n",
       "      <td>0.0</td>\n",
       "      <td>0.0</td>\n",
       "      <td>...</td>\n",
       "      <td>0.0</td>\n",
       "      <td>0.0</td>\n",
       "      <td>0.0</td>\n",
       "      <td>0.0</td>\n",
       "      <td>0.0</td>\n",
       "      <td>0.0</td>\n",
       "      <td>0.0</td>\n",
       "      <td>0.0</td>\n",
       "      <td>0.0</td>\n",
       "      <td>0.0</td>\n",
       "      <td>0.0</td>\n",
       "      <td>0.0</td>\n",
       "      <td>0.0</td>\n",
       "      <td>0.0</td>\n",
       "      <td>0.0</td>\n",
       "      <td>0.0</td>\n",
       "      <td>0.0</td>\n",
       "      <td>0.0</td>\n",
       "      <td>0.0</td>\n",
       "      <td>0.0</td>\n",
       "      <td>0.0</td>\n",
       "      <td>0.0</td>\n",
       "      <td>0.0</td>\n",
       "      <td>0.0</td>\n",
       "      <td>0.0</td>\n",
       "      <td>0.0</td>\n",
       "      <td>0.0</td>\n",
       "      <td>0.0</td>\n",
       "      <td>0.0</td>\n",
       "      <td>0.0</td>\n",
       "      <td>0.0</td>\n",
       "      <td>0.0</td>\n",
       "      <td>0.0</td>\n",
       "      <td>0.0</td>\n",
       "      <td>0.0</td>\n",
       "      <td>0.0</td>\n",
       "      <td>0.0</td>\n",
       "      <td>0.0</td>\n",
       "      <td>0.0</td>\n",
       "      <td>0.0</td>\n",
       "      <td>0.0</td>\n",
       "      <td>0.0</td>\n",
       "      <td>0.0</td>\n",
       "      <td>0.0</td>\n",
       "      <td>0.0</td>\n",
       "      <td>0.0</td>\n",
       "      <td>0.0</td>\n",
       "      <td>0.0</td>\n",
       "      <td>0.0</td>\n",
       "      <td>0.0</td>\n",
       "      <td>0.0</td>\n",
       "      <td>0.0</td>\n",
       "      <td>0.0</td>\n",
       "      <td>0.0</td>\n",
       "      <td>0.0</td>\n",
       "      <td>0.0</td>\n",
       "      <td>0.0</td>\n",
       "      <td>0.0</td>\n",
       "      <td>0.0</td>\n",
       "      <td>0.0</td>\n",
       "      <td>0.0</td>\n",
       "      <td>0.0</td>\n",
       "      <td>0.0</td>\n",
       "      <td>0.0</td>\n",
       "      <td>0.0</td>\n",
       "      <td>0.0</td>\n",
       "      <td>0.0</td>\n",
       "      <td>0.0</td>\n",
       "      <td>0.0</td>\n",
       "      <td>0.0</td>\n",
       "      <td>0.0</td>\n",
       "      <td>0.0</td>\n",
       "      <td>0.0</td>\n",
       "      <td>0.0</td>\n",
       "      <td>0.0</td>\n",
       "      <td>0.0</td>\n",
       "      <td>0.0</td>\n",
       "      <td>0.0</td>\n",
       "      <td>0.0</td>\n",
       "      <td>0.0</td>\n",
       "      <td>0.0</td>\n",
       "      <td>0.0</td>\n",
       "      <td>0.0</td>\n",
       "      <td>0.0</td>\n",
       "      <td>0.0</td>\n",
       "      <td>1.0</td>\n",
       "      <td>0.0</td>\n",
       "      <td>0.0</td>\n",
       "      <td>0.0</td>\n",
       "      <td>0.0</td>\n",
       "      <td>0.0</td>\n",
       "      <td>1.0</td>\n",
       "      <td>0.0</td>\n",
       "      <td>0.0</td>\n",
       "      <td>0.0</td>\n",
       "      <td>0.0</td>\n",
       "      <td>0.0</td>\n",
       "      <td>0.0</td>\n",
       "      <td>0.0</td>\n",
       "      <td>1.0</td>\n",
       "    </tr>\n",
       "    <tr>\n",
       "      <th>1</th>\n",
       "      <td>40.30467</td>\n",
       "      <td>53.845657</td>\n",
       "      <td>0.0</td>\n",
       "      <td>401.0</td>\n",
       "      <td>15.0</td>\n",
       "      <td>15.52416</td>\n",
       "      <td>32.44188</td>\n",
       "      <td>0.0</td>\n",
       "      <td>377.0</td>\n",
       "      <td>3.0</td>\n",
       "      <td>14.044226</td>\n",
       "      <td>32.615417</td>\n",
       "      <td>0.0</td>\n",
       "      <td>377.0</td>\n",
       "      <td>2.0</td>\n",
       "      <td>34.567566</td>\n",
       "      <td>48.475178</td>\n",
       "      <td>0.0</td>\n",
       "      <td>378.0</td>\n",
       "      <td>12.0</td>\n",
       "      <td>1.479934</td>\n",
       "      <td>46.18691</td>\n",
       "      <td>-356.0</td>\n",
       "      <td>377.0</td>\n",
       "      <td>0.0</td>\n",
       "      <td>1.076167</td>\n",
       "      <td>1.795416</td>\n",
       "      <td>0.0</td>\n",
       "      <td>11.0</td>\n",
       "      <td>0.0</td>\n",
       "      <td>0.400491</td>\n",
       "      <td>1.078097</td>\n",
       "      <td>0.0</td>\n",
       "      <td>9.0</td>\n",
       "      <td>0.0</td>\n",
       "      <td>0.377559</td>\n",
       "      <td>1.07421</td>\n",
       "      <td>0.0</td>\n",
       "      <td>9.0</td>\n",
       "      <td>0.0</td>\n",
       "      <td>0.972973</td>\n",
       "      <td>1.704671</td>\n",
       "      <td>0.0</td>\n",
       "      <td>10.0</td>\n",
       "      <td>0.0</td>\n",
       "      <td>0.022932</td>\n",
       "      <td>1.521174</td>\n",
       "      <td>-8.0</td>\n",
       "      <td>9.0</td>\n",
       "      <td>0.0</td>\n",
       "      <td>6.0</td>\n",
       "      <td>2.0</td>\n",
       "      <td>4.0</td>\n",
       "      <td>5.0</td>\n",
       "      <td>-2.0</td>\n",
       "      <td>0.0</td>\n",
       "      <td>0.0</td>\n",
       "      <td>0.0</td>\n",
       "      <td>0.0</td>\n",
       "      <td>0.0</td>\n",
       "      <td>35.0</td>\n",
       "      <td>0.0</td>\n",
       "      <td>0.0</td>\n",
       "      <td>0.0</td>\n",
       "      <td>0.0</td>\n",
       "      <td>0.0</td>\n",
       "      <td>0.0</td>\n",
       "      <td>0.0</td>\n",
       "      <td>0.0</td>\n",
       "      <td>0.0</td>\n",
       "      <td>0.0</td>\n",
       "      <td>0.0</td>\n",
       "      <td>0.0</td>\n",
       "      <td>0.0</td>\n",
       "      <td>0.0</td>\n",
       "      <td>0.0</td>\n",
       "      <td>0.0</td>\n",
       "      <td>0.0</td>\n",
       "      <td>0.0</td>\n",
       "      <td>0.0</td>\n",
       "      <td>0.0</td>\n",
       "      <td>0.0</td>\n",
       "      <td>0.0</td>\n",
       "      <td>0.0</td>\n",
       "      <td>0.0</td>\n",
       "      <td>0.0</td>\n",
       "      <td>0.0</td>\n",
       "      <td>0.0</td>\n",
       "      <td>0.0</td>\n",
       "      <td>0.0</td>\n",
       "      <td>0.0</td>\n",
       "      <td>0.0</td>\n",
       "      <td>0.0</td>\n",
       "      <td>0.0</td>\n",
       "      <td>0.0</td>\n",
       "      <td>0.0</td>\n",
       "      <td>0.0</td>\n",
       "      <td>0.0</td>\n",
       "      <td>0.0</td>\n",
       "      <td>0.0</td>\n",
       "      <td>...</td>\n",
       "      <td>0.0</td>\n",
       "      <td>0.0</td>\n",
       "      <td>0.0</td>\n",
       "      <td>0.0</td>\n",
       "      <td>0.0</td>\n",
       "      <td>0.0</td>\n",
       "      <td>0.0</td>\n",
       "      <td>0.0</td>\n",
       "      <td>0.0</td>\n",
       "      <td>0.0</td>\n",
       "      <td>0.0</td>\n",
       "      <td>0.0</td>\n",
       "      <td>0.0</td>\n",
       "      <td>0.0</td>\n",
       "      <td>0.0</td>\n",
       "      <td>0.0</td>\n",
       "      <td>0.0</td>\n",
       "      <td>0.0</td>\n",
       "      <td>0.0</td>\n",
       "      <td>0.0</td>\n",
       "      <td>0.0</td>\n",
       "      <td>0.0</td>\n",
       "      <td>0.0</td>\n",
       "      <td>0.0</td>\n",
       "      <td>0.0</td>\n",
       "      <td>0.0</td>\n",
       "      <td>0.0</td>\n",
       "      <td>0.0</td>\n",
       "      <td>0.0</td>\n",
       "      <td>0.0</td>\n",
       "      <td>0.0</td>\n",
       "      <td>0.0</td>\n",
       "      <td>0.0</td>\n",
       "      <td>0.0</td>\n",
       "      <td>0.0</td>\n",
       "      <td>0.0</td>\n",
       "      <td>0.0</td>\n",
       "      <td>0.0</td>\n",
       "      <td>0.0</td>\n",
       "      <td>0.0</td>\n",
       "      <td>0.0</td>\n",
       "      <td>0.0</td>\n",
       "      <td>0.0</td>\n",
       "      <td>0.0</td>\n",
       "      <td>0.0</td>\n",
       "      <td>0.0</td>\n",
       "      <td>0.0</td>\n",
       "      <td>0.0</td>\n",
       "      <td>0.0</td>\n",
       "      <td>0.0</td>\n",
       "      <td>0.0</td>\n",
       "      <td>0.0</td>\n",
       "      <td>0.0</td>\n",
       "      <td>0.0</td>\n",
       "      <td>0.0</td>\n",
       "      <td>0.0</td>\n",
       "      <td>0.0</td>\n",
       "      <td>0.0</td>\n",
       "      <td>0.0</td>\n",
       "      <td>0.0</td>\n",
       "      <td>0.0</td>\n",
       "      <td>0.0</td>\n",
       "      <td>0.0</td>\n",
       "      <td>0.0</td>\n",
       "      <td>0.0</td>\n",
       "      <td>0.0</td>\n",
       "      <td>0.0</td>\n",
       "      <td>0.0</td>\n",
       "      <td>0.0</td>\n",
       "      <td>0.0</td>\n",
       "      <td>0.0</td>\n",
       "      <td>0.0</td>\n",
       "      <td>0.0</td>\n",
       "      <td>0.0</td>\n",
       "      <td>0.0</td>\n",
       "      <td>0.0</td>\n",
       "      <td>0.0</td>\n",
       "      <td>0.0</td>\n",
       "      <td>0.0</td>\n",
       "      <td>0.0</td>\n",
       "      <td>0.0</td>\n",
       "      <td>0.0</td>\n",
       "      <td>0.0</td>\n",
       "      <td>0.0</td>\n",
       "      <td>0.0</td>\n",
       "      <td>1.0</td>\n",
       "      <td>0.0</td>\n",
       "      <td>0.0</td>\n",
       "      <td>0.0</td>\n",
       "      <td>0.0</td>\n",
       "      <td>1.0</td>\n",
       "      <td>0.0</td>\n",
       "      <td>0.0</td>\n",
       "      <td>0.0</td>\n",
       "      <td>0.0</td>\n",
       "      <td>0.0</td>\n",
       "      <td>0.0</td>\n",
       "      <td>0.0</td>\n",
       "      <td>0.0</td>\n",
       "      <td>0.0</td>\n",
       "    </tr>\n",
       "  </tbody>\n",
       "</table>\n",
       "<p>2 rows × 281 columns</p>\n",
       "</div>"
      ],
      "text/plain": [
       "         V1         V2   V3     V4    V5        V6        V7   V8     V9  V10  \\\n",
       "0  40.30467  53.845657  0.0  401.0  15.0  15.52416  32.44188  0.0  377.0  3.0   \n",
       "1  40.30467  53.845657  0.0  401.0  15.0  15.52416  32.44188  0.0  377.0  3.0   \n",
       "\n",
       "         V11        V12  V13    V14  V15        V16        V17  V18    V19  \\\n",
       "0  14.044226  32.615417  0.0  377.0  2.0  34.567566  48.475178  0.0  378.0   \n",
       "1  14.044226  32.615417  0.0  377.0  2.0  34.567566  48.475178  0.0  378.0   \n",
       "\n",
       "    V20       V21       V22    V23    V24  V25       V26       V27  V28   V29  \\\n",
       "0  12.0  1.479934  46.18691 -356.0  377.0  0.0  1.076167  1.795416  0.0  11.0   \n",
       "1  12.0  1.479934  46.18691 -356.0  377.0  0.0  1.076167  1.795416  0.0  11.0   \n",
       "\n",
       "   V30       V31       V32  V33  V34  V35       V36      V37  V38  V39  V40  \\\n",
       "0  0.0  0.400491  1.078097  0.0  9.0  0.0  0.377559  1.07421  0.0  9.0  0.0   \n",
       "1  0.0  0.400491  1.078097  0.0  9.0  0.0  0.377559  1.07421  0.0  9.0  0.0   \n",
       "\n",
       "        V41       V42  V43   V44  V45       V46       V47  V48  V49  V50  V51  \\\n",
       "0  0.972973  1.704671  0.0  10.0  0.0  0.022932  1.521174 -8.0  9.0  0.0  2.0   \n",
       "1  0.972973  1.704671  0.0  10.0  0.0  0.022932  1.521174 -8.0  9.0  0.0  6.0   \n",
       "\n",
       "   V52  V53  V54  V55  V56  V57  V58  V59  V60   V61  V62  V63  V64  V65  V66  \\\n",
       "0  2.0  0.0  2.0  2.0  0.0  0.0  0.0  0.0  0.0  10.0  0.0  0.0  0.0  0.0  0.0   \n",
       "1  2.0  4.0  5.0 -2.0  0.0  0.0  0.0  0.0  0.0  35.0  0.0  0.0  0.0  0.0  0.0   \n",
       "\n",
       "   V67  V68  V69  V70  V71  V72  V73  V74  V75  V76  V77  V78  V79  V80  V81  \\\n",
       "0  0.0  0.0  0.0  0.0  0.0  0.0  0.0  0.0  0.0  0.0  0.0  0.0  0.0  0.0  0.0   \n",
       "1  0.0  0.0  0.0  0.0  0.0  0.0  0.0  0.0  0.0  0.0  0.0  0.0  0.0  0.0  0.0   \n",
       "\n",
       "   V82  V83  V84  V85  V86  V87  V88  V89  V90  V91  V92  V93  V94  V95  V96  \\\n",
       "0  0.0  0.0  0.0  0.0  0.0  0.0  0.0  0.0  0.0  0.0  0.0  0.0  0.0  0.0  0.0   \n",
       "1  0.0  0.0  0.0  0.0  0.0  0.0  0.0  0.0  0.0  0.0  0.0  0.0  0.0  0.0  0.0   \n",
       "\n",
       "   V97  V98  V99  V100 ...   V182  V183  V184  V185  V186  V187  V188  V189  \\\n",
       "0  0.0  0.0  0.0   0.0 ...    0.0   0.0   0.0   0.0   0.0   0.0   0.0   0.0   \n",
       "1  0.0  0.0  0.0   0.0 ...    0.0   0.0   0.0   0.0   0.0   0.0   0.0   0.0   \n",
       "\n",
       "   V190  V191  V192  V193  V194  V195  V196  V197  V198  V199  V200  V201  \\\n",
       "0   0.0   0.0   0.0   0.0   0.0   0.0   0.0   0.0   0.0   0.0   0.0   0.0   \n",
       "1   0.0   0.0   0.0   0.0   0.0   0.0   0.0   0.0   0.0   0.0   0.0   0.0   \n",
       "\n",
       "   V202  V203  V204  V205  V206  V207  V208  V209  V210  V211  V212  V213  \\\n",
       "0   0.0   0.0   0.0   0.0   0.0   0.0   0.0   0.0   0.0   0.0   0.0   0.0   \n",
       "1   0.0   0.0   0.0   0.0   0.0   0.0   0.0   0.0   0.0   0.0   0.0   0.0   \n",
       "\n",
       "   V214  V215  V216  V217  V218  V219  V220  V221  V222  V223  V224  V225  \\\n",
       "0   0.0   0.0   0.0   0.0   0.0   0.0   0.0   0.0   0.0   0.0   0.0   0.0   \n",
       "1   0.0   0.0   0.0   0.0   0.0   0.0   0.0   0.0   0.0   0.0   0.0   0.0   \n",
       "\n",
       "   V226  V227  V228  V229  V230  V231  V232  V233  V234  V235  V236  V237  \\\n",
       "0   0.0   0.0   0.0   0.0   0.0   0.0   0.0   0.0   0.0   0.0   0.0   0.0   \n",
       "1   0.0   0.0   0.0   0.0   0.0   0.0   0.0   0.0   0.0   0.0   0.0   0.0   \n",
       "\n",
       "   V238  V239  V240  V241  V242  V243  V244  V245  V246  V247  V248  V249  \\\n",
       "0   0.0   0.0   0.0   0.0   0.0   0.0   0.0   0.0   0.0   0.0   0.0   0.0   \n",
       "1   0.0   0.0   0.0   0.0   0.0   0.0   0.0   0.0   0.0   0.0   0.0   0.0   \n",
       "\n",
       "   V250  V251  V252  V253  V254  V255  V256  V257  V258  V259  V260  V261  \\\n",
       "0   0.0   0.0   0.0   0.0   0.0   0.0   0.0   0.0   0.0   0.0   0.0   0.0   \n",
       "1   0.0   0.0   0.0   0.0   0.0   0.0   0.0   0.0   0.0   0.0   0.0   0.0   \n",
       "\n",
       "   V262  V263  V264  V265  V266  V267  V268  V269  V270  V271  V272  V273  \\\n",
       "0   0.0   0.0   0.0   0.0   0.0   1.0   0.0   0.0   0.0   0.0   0.0   1.0   \n",
       "1   0.0   0.0   0.0   0.0   0.0   1.0   0.0   0.0   0.0   0.0   1.0   0.0   \n",
       "\n",
       "   V274  V275  V276  V277  V278  V279  V280    y  \n",
       "0   0.0   0.0   0.0   0.0   0.0   0.0   0.0  1.0  \n",
       "1   0.0   0.0   0.0   0.0   0.0   0.0   0.0  0.0  \n",
       "\n",
       "[2 rows x 281 columns]"
      ]
     },
     "execution_count": 3,
     "metadata": {},
     "output_type": "execute_result"
    }
   ],
   "source": [
    "train.head(2)"
   ]
  },
  {
   "cell_type": "markdown",
   "metadata": {},
   "source": [
    "## split"
   ]
  },
  {
   "cell_type": "code",
   "execution_count": 4,
   "metadata": {
    "collapsed": false
   },
   "outputs": [],
   "source": [
    "X_train = train.ix[:,\"V1\":\"V280\"]\n",
    "y_train = train[\"y\"]\n",
    "\n",
    "X_test = test.ix[:,\"V1\":\"V280\"]\n",
    "y_test = test[\"y\"]"
   ]
  },
  {
   "cell_type": "markdown",
   "metadata": {},
   "source": [
    "## log transformation"
   ]
  },
  {
   "cell_type": "code",
   "execution_count": 5,
   "metadata": {
    "collapsed": true
   },
   "outputs": [],
   "source": [
    "y_train_log = np.log(train[\"y\"]+1)\n",
    "y_test_log = np.log(test[\"y\"]+1)"
   ]
  },
  {
   "cell_type": "markdown",
   "metadata": {},
   "source": [
    "## evaluation function"
   ]
  },
  {
   "cell_type": "code",
   "execution_count": 6,
   "metadata": {
    "collapsed": true
   },
   "outputs": [],
   "source": [
    "def eva(test_pred, test_real):\n",
    "    return ((np.log(1+test_real)-test_pred)**2).mean()"
   ]
  },
  {
   "cell_type": "markdown",
   "metadata": {},
   "source": [
    "## GLM with Regularization (implemented in R)"
   ]
  },
  {
   "cell_type": "markdown",
   "metadata": {},
   "source": [
    "## Random Forest"
   ]
  },
  {
   "cell_type": "code",
   "execution_count": 7,
   "metadata": {
    "collapsed": true
   },
   "outputs": [],
   "source": [
    "from sklearn.ensemble import RandomForestRegressor\n",
    "\n",
    "# parameters\n",
    "params = {\n",
    "    \"n_estimators\":1200,\n",
    "    \"criterion\":'mse',\n",
    "    \"max_depth\":12,\n",
    "    \"max_features\":\"auto\",\n",
    "    \"min_samples_split\":2,\n",
    "    \"min_impurity_split\":0.001,\n",
    "    \"n_jobs\":-1,\n",
    "    \"random_state\":42,\n",
    "    \"verbose\":3,\n",
    "}\n",
    "\n",
    "rft_model = RandomForestRegressor(**params)\n",
    "\n",
    "rft_model.fit(X_train,y_train_log)\n",
    "\n",
    "rft_pred = rft_model.predict(X_test)\n",
    "\n",
    "eva(rft_pred, y_test)"
   ]
  },
  {
   "cell_type": "code",
   "execution_count": 12,
   "metadata": {
    "collapsed": false
   },
   "outputs": [],
   "source": [
    "# plt.figure(figsize=(10,6));\n",
    "# sns.regplot(x=(np.log(y_test+1)), y = rft_pred-(np.log(y_test+1)),fit_reg=False,color=\"black\");\n",
    "# plt.title(\"True value vs Residuals\", fontsize=20);\n",
    "# plt.xlabel(\"True value\", fontsize=20);\n",
    "# plt.ylabel(\"Residuals\", fontsize=20);\n",
    "# plt.savefig(\"/home/peiran/Semester3/STAT542/Project/Report/Resid_fit_rft.png\")"
   ]
  },
  {
   "cell_type": "code",
   "execution_count": 13,
   "metadata": {
    "collapsed": true
   },
   "outputs": [],
   "source": [
    "# residual\n",
    "resid = rft_pred-(np.log(y_test+1))"
   ]
  },
  {
   "cell_type": "code",
   "execution_count": 14,
   "metadata": {
    "collapsed": false
   },
   "outputs": [],
   "source": [
    "# plt.figure(figsize=(10,6));\n",
    "# sns.distplot(diff, bins=30, kde=False,color=\"black\",hist_kws=dict(alpha=1));\n",
    "# plt.title(\"residual distribution\", fontsize=20);\n",
    "# plt.xlabel(\"residual\", fontsize=20);\n",
    "# plt.ylabel(\"count\", fontsize=20);\n",
    "# plt.savefig(\"/home/peiran/Semester3/STAT542/Project/Report/Resid_dist_rft.png\");"
   ]
  },
  {
   "cell_type": "markdown",
   "metadata": {},
   "source": [
    "### Feature importance"
   ]
  },
  {
   "cell_type": "code",
   "execution_count": 15,
   "metadata": {
    "collapsed": false
   },
   "outputs": [],
   "source": [
    "importance = rft_model.feature_importances_\n",
    "features = X_train.columns"
   ]
  },
  {
   "cell_type": "code",
   "execution_count": 16,
   "metadata": {
    "collapsed": true
   },
   "outputs": [],
   "source": [
    "def plot_10_importance(importance,features):\n",
    "    imp_table = pd.DataFrame({\"importance\":importance,\"features\":features})\n",
    "    imp_10_table = imp_table.sort_values(ascending = False,by=\"importance\")[0:10]\n",
    "    sns.barplot(x=imp_10_table[\"features\"],y=imp_10_table[\"importance\"],color=\"black\")"
   ]
  },
  {
   "cell_type": "code",
   "execution_count": 17,
   "metadata": {
    "collapsed": false
   },
   "outputs": [
    {
     "data": {
      "image/png": "[encoded data removed]",
      "text/plain": [
       "<matplotlib.figure.Figure at 0x7f26298b4a20>"
      ]
     },
     "metadata": {},
     "output_type": "display_data"
    }
   ],
   "source": [
    "plt.figure(figsize = (10,6))\n",
    "plot_10_importance(importance,features)\n",
    "plt.title(\"Top 10 most importance features\", fontsize=20);\n",
    "plt.xlabel(\"Feature name\", fontsize=20);\n",
    "plt.ylabel(\"Importance\", fontsize=20);\n",
    "# plt.savefig(\"/home/peiran/Semester3/STAT542/Project/Report/rft_importance.png\");"
   ]
  },
  {
   "cell_type": "markdown",
   "metadata": {},
   "source": [
    "## Gradient boosting tree"
   ]
  },
  {
   "cell_type": "code",
   "execution_count": 7,
   "metadata": {
    "collapsed": false
   },
   "outputs": [
    {
     "name": "stderr",
     "output_type": "stream",
     "text": [
      "/home/peiran/anaconda3/lib/python3.5/site-packages/sklearn/cross_validation.py:44: DeprecationWarning: This module was deprecated in version 0.18 in favor of the model_selection module into which all the refactored classes and functions are moved. Also note that the interface of the new CV iterators are different from that of this module. This module will be removed in 0.20.\n",
      "  \"This module will be removed in 0.20.\", DeprecationWarning)\n"
     ]
    }
   ],
   "source": [
    "import xgboost as xgb\n",
    "\n",
    "def mse(preds, dtrain):\n",
    "    labels = dtrain.get_label()\n",
    "    grad = preds - labels\n",
    "    hess = np.array([1]*len(grad))\n",
    "    return grad, hess\n",
    "\n",
    "RANDOM_STATE = 42\n",
    "params = {\n",
    "    'min_child_weight': 1,\n",
    "    'eta': 0.01,\n",
    "    'colsample_bytree': 0.5,\n",
    "    'max_depth': 12,\n",
    "    'subsample': 0.1,\n",
    "    'reg_alpha': 1,\n",
    "    'gamma': 0.05,\n",
    "    'silent':True,\n",
    "    \"verbose_eval\":10,\n",
    "    'seed': RANDOM_STATE\n",
    "}\n",
    "\n",
    "# xgtrain = xgb.DMatrix(X, label=loss_boxcox[0])\n",
    "xgtrain = xgb.DMatrix(X_train, label=y_train_log)\n",
    "xgval = xgb.DMatrix(X_test, label=y_test_log)\n",
    "xgtest = xgb.DMatrix(X_test)"
   ]
  },
  {
   "cell_type": "code",
   "execution_count": 8,
   "metadata": {
    "collapsed": false,
    "scrolled": true
   },
   "outputs": [
    {
     "name": "stdout",
     "output_type": "stream",
     "text": [
      "[0]\tvalidation-rmse:1.04771\n",
      "Will train until validation-rmse hasn't improved in 30 rounds.\n",
      "[1]\tvalidation-rmse:1.04282\n",
      "[2]\tvalidation-rmse:1.03726\n",
      "[3]\tvalidation-rmse:1.03227\n",
      "[4]\tvalidation-rmse:1.02716\n",
      "[5]\tvalidation-rmse:1.02241\n",
      "[6]\tvalidation-rmse:1.01785\n",
      "[7]\tvalidation-rmse:1.01275\n",
      "[8]\tvalidation-rmse:1.00812\n",
      "[9]\tvalidation-rmse:1.00265\n",
      "[10]\tvalidation-rmse:0.99812\n",
      "[11]\tvalidation-rmse:0.993163\n",
      "[12]\tvalidation-rmse:0.988786\n",
      "[13]\tvalidation-rmse:0.984164\n",
      "[14]\tvalidation-rmse:0.979399\n",
      "[15]\tvalidation-rmse:0.974313\n",
      "[16]\tvalidation-rmse:0.969901\n",
      "[17]\tvalidation-rmse:0.965501\n",
      "[18]\tvalidation-rmse:0.960752\n",
      "[19]\tvalidation-rmse:0.956387\n",
      "[20]\tvalidation-rmse:0.951717\n",
      "[21]\tvalidation-rmse:0.947635\n",
      "[22]\tvalidation-rmse:0.943812\n",
      "[23]\tvalidation-rmse:0.940844\n",
      "[24]\tvalidation-rmse:0.936751\n",
      "[25]\tvalidation-rmse:0.932852\n",
      "[26]\tvalidation-rmse:0.928878\n",
      "[27]\tvalidation-rmse:0.926048\n",
      "[28]\tvalidation-rmse:0.922326\n",
      "[29]\tvalidation-rmse:0.918351\n",
      "[30]\tvalidation-rmse:0.914723\n",
      "[31]\tvalidation-rmse:0.911087\n",
      "[32]\tvalidation-rmse:0.907106\n",
      "[33]\tvalidation-rmse:0.903169\n",
      "[34]\tvalidation-rmse:0.89949\n",
      "[35]\tvalidation-rmse:0.89575\n",
      "[36]\tvalidation-rmse:0.893598\n",
      "[37]\tvalidation-rmse:0.890171\n",
      "[38]\tvalidation-rmse:0.886588\n",
      "[39]\tvalidation-rmse:0.88305\n",
      "[40]\tvalidation-rmse:0.879773\n",
      "[41]\tvalidation-rmse:0.876609\n",
      "[42]\tvalidation-rmse:0.873117\n",
      "[43]\tvalidation-rmse:0.869939\n",
      "[44]\tvalidation-rmse:0.866872\n",
      "[45]\tvalidation-rmse:0.863511\n",
      "[46]\tvalidation-rmse:0.860572\n",
      "[47]\tvalidation-rmse:0.857778\n",
      "[48]\tvalidation-rmse:0.854808\n",
      "[49]\tvalidation-rmse:0.853097\n",
      "[50]\tvalidation-rmse:0.850345\n",
      "[51]\tvalidation-rmse:0.847336\n",
      "[52]\tvalidation-rmse:0.844451\n",
      "[53]\tvalidation-rmse:0.841256\n",
      "[54]\tvalidation-rmse:0.838251\n",
      "[55]\tvalidation-rmse:0.835641\n",
      "[56]\tvalidation-rmse:0.833973\n",
      "[57]\tvalidation-rmse:0.831169\n",
      "[58]\tvalidation-rmse:0.828569\n",
      "[59]\tvalidation-rmse:0.8266\n",
      "[60]\tvalidation-rmse:0.823746\n",
      "[61]\tvalidation-rmse:0.821178\n",
      "[62]\tvalidation-rmse:0.818289\n",
      "[63]\tvalidation-rmse:0.815466\n",
      "[64]\tvalidation-rmse:0.813257\n",
      "[65]\tvalidation-rmse:0.810391\n",
      "[66]\tvalidation-rmse:0.808168\n",
      "[67]\tvalidation-rmse:0.806124\n",
      "[68]\tvalidation-rmse:0.804356\n",
      "[69]\tvalidation-rmse:0.802069\n",
      "[70]\tvalidation-rmse:0.799864\n",
      "[71]\tvalidation-rmse:0.7976\n",
      "[72]\tvalidation-rmse:0.795909\n",
      "[73]\tvalidation-rmse:0.794046\n",
      "[74]\tvalidation-rmse:0.791972\n",
      "[75]\tvalidation-rmse:0.789873\n",
      "[76]\tvalidation-rmse:0.788107\n",
      "[77]\tvalidation-rmse:0.785776\n",
      "[78]\tvalidation-rmse:0.783708\n",
      "[79]\tvalidation-rmse:0.781283\n",
      "[80]\tvalidation-rmse:0.779123\n",
      "[81]\tvalidation-rmse:0.777183\n",
      "[82]\tvalidation-rmse:0.775377\n",
      "[83]\tvalidation-rmse:0.773172\n",
      "[84]\tvalidation-rmse:0.771013\n",
      "[85]\tvalidation-rmse:0.76904\n",
      "[86]\tvalidation-rmse:0.766963\n",
      "[87]\tvalidation-rmse:0.765121\n",
      "[88]\tvalidation-rmse:0.763495\n",
      "[89]\tvalidation-rmse:0.761436\n",
      "[90]\tvalidation-rmse:0.759826\n",
      "[91]\tvalidation-rmse:0.758128\n",
      "[92]\tvalidation-rmse:0.756412\n",
      "[93]\tvalidation-rmse:0.754699\n",
      "[94]\tvalidation-rmse:0.752896\n",
      "[95]\tvalidation-rmse:0.751511\n",
      "[96]\tvalidation-rmse:0.749676\n",
      "[97]\tvalidation-rmse:0.747763\n",
      "[98]\tvalidation-rmse:0.74663\n",
      "[99]\tvalidation-rmse:0.745095\n",
      "[100]\tvalidation-rmse:0.743056\n",
      "[101]\tvalidation-rmse:0.741973\n",
      "[102]\tvalidation-rmse:0.740635\n",
      "[103]\tvalidation-rmse:0.739267\n",
      "[104]\tvalidation-rmse:0.737765\n",
      "[105]\tvalidation-rmse:0.736234\n",
      "[106]\tvalidation-rmse:0.734916\n",
      "[107]\tvalidation-rmse:0.7337\n",
      "[108]\tvalidation-rmse:0.732552\n",
      "[109]\tvalidation-rmse:0.731465\n",
      "[110]\tvalidation-rmse:0.730134\n",
      "[111]\tvalidation-rmse:0.729118\n",
      "[112]\tvalidation-rmse:0.728396\n",
      "[113]\tvalidation-rmse:0.72727\n",
      "[114]\tvalidation-rmse:0.725676\n",
      "[115]\tvalidation-rmse:0.724549\n",
      "[116]\tvalidation-rmse:0.723334\n",
      "[117]\tvalidation-rmse:0.72198\n",
      "[118]\tvalidation-rmse:0.720541\n",
      "[119]\tvalidation-rmse:0.719207\n",
      "[120]\tvalidation-rmse:0.717836\n",
      "[121]\tvalidation-rmse:0.716645\n",
      "[122]\tvalidation-rmse:0.71519\n",
      "[123]\tvalidation-rmse:0.714097\n",
      "[124]\tvalidation-rmse:0.712731\n",
      "[125]\tvalidation-rmse:0.712029\n",
      "[126]\tvalidation-rmse:0.711449\n",
      "[127]\tvalidation-rmse:0.71049\n",
      "[128]\tvalidation-rmse:0.709362\n",
      "[129]\tvalidation-rmse:0.708345\n",
      "[130]\tvalidation-rmse:0.70726\n",
      "[131]\tvalidation-rmse:0.706441\n",
      "[132]\tvalidation-rmse:0.705324\n",
      "[133]\tvalidation-rmse:0.704414\n",
      "[134]\tvalidation-rmse:0.703621\n",
      "[135]\tvalidation-rmse:0.702826\n",
      "[136]\tvalidation-rmse:0.701971\n",
      "[137]\tvalidation-rmse:0.700806\n",
      "[138]\tvalidation-rmse:0.699872\n",
      "[139]\tvalidation-rmse:0.699113\n",
      "[140]\tvalidation-rmse:0.698264\n",
      "[141]\tvalidation-rmse:0.697192\n",
      "[142]\tvalidation-rmse:0.696298\n",
      "[143]\tvalidation-rmse:0.695473\n",
      "[144]\tvalidation-rmse:0.69447\n",
      "[145]\tvalidation-rmse:0.693488\n",
      "[146]\tvalidation-rmse:0.692812\n",
      "[147]\tvalidation-rmse:0.691928\n",
      "[148]\tvalidation-rmse:0.691497\n",
      "[149]\tvalidation-rmse:0.690824\n",
      "[150]\tvalidation-rmse:0.690158\n",
      "[151]\tvalidation-rmse:0.68936\n",
      "[152]\tvalidation-rmse:0.688624\n",
      "[153]\tvalidation-rmse:0.687822\n",
      "[154]\tvalidation-rmse:0.686939\n",
      "[155]\tvalidation-rmse:0.686299\n",
      "[156]\tvalidation-rmse:0.685454\n",
      "[157]\tvalidation-rmse:0.684662\n",
      "[158]\tvalidation-rmse:0.683889\n",
      "[159]\tvalidation-rmse:0.683376\n",
      "[160]\tvalidation-rmse:0.682724\n",
      "[161]\tvalidation-rmse:0.682209\n",
      "[162]\tvalidation-rmse:0.681392\n",
      "[163]\tvalidation-rmse:0.68049\n",
      "[164]\tvalidation-rmse:0.679944\n",
      "[165]\tvalidation-rmse:0.679443\n",
      "[166]\tvalidation-rmse:0.678683\n",
      "[167]\tvalidation-rmse:0.67798\n",
      "[168]\tvalidation-rmse:0.677284\n",
      "[169]\tvalidation-rmse:0.676616\n",
      "[170]\tvalidation-rmse:0.676082\n",
      "[171]\tvalidation-rmse:0.675636\n",
      "[172]\tvalidation-rmse:0.675137\n",
      "[173]\tvalidation-rmse:0.67452\n",
      "[174]\tvalidation-rmse:0.67395\n",
      "[175]\tvalidation-rmse:0.673215\n",
      "[176]\tvalidation-rmse:0.67249\n",
      "[177]\tvalidation-rmse:0.671892\n",
      "[178]\tvalidation-rmse:0.671348\n",
      "[179]\tvalidation-rmse:0.670783\n",
      "[180]\tvalidation-rmse:0.670313\n",
      "[181]\tvalidation-rmse:0.669716\n",
      "[182]\tvalidation-rmse:0.669049\n",
      "[183]\tvalidation-rmse:0.668633\n",
      "[184]\tvalidation-rmse:0.66801\n",
      "[185]\tvalidation-rmse:0.667607\n",
      "[186]\tvalidation-rmse:0.666977\n",
      "[187]\tvalidation-rmse:0.66644\n",
      "[188]\tvalidation-rmse:0.665696\n",
      "[189]\tvalidation-rmse:0.665402\n",
      "[190]\tvalidation-rmse:0.665074\n",
      "[191]\tvalidation-rmse:0.664539\n",
      "[192]\tvalidation-rmse:0.664218\n",
      "[193]\tvalidation-rmse:0.6637\n",
      "[194]\tvalidation-rmse:0.66338\n",
      "[195]\tvalidation-rmse:0.662896\n",
      "[196]\tvalidation-rmse:0.662588\n",
      "[197]\tvalidation-rmse:0.662003\n",
      "[198]\tvalidation-rmse:0.661447\n",
      "[199]\tvalidation-rmse:0.661026\n",
      "[200]\tvalidation-rmse:0.66053\n",
      "[201]\tvalidation-rmse:0.660082\n",
      "[202]\tvalidation-rmse:0.659433\n",
      "[203]\tvalidation-rmse:0.659142\n",
      "[204]\tvalidation-rmse:0.658582\n",
      "[205]\tvalidation-rmse:0.658401\n",
      "[206]\tvalidation-rmse:0.658083\n",
      "[207]\tvalidation-rmse:0.657613\n",
      "[208]\tvalidation-rmse:0.657202\n",
      "[209]\tvalidation-rmse:0.656731\n",
      "[210]\tvalidation-rmse:0.656541\n",
      "[211]\tvalidation-rmse:0.656215\n",
      "[212]\tvalidation-rmse:0.655903\n",
      "[213]\tvalidation-rmse:0.655412\n",
      "[214]\tvalidation-rmse:0.655165\n",
      "[215]\tvalidation-rmse:0.655017\n",
      "[216]\tvalidation-rmse:0.654657\n",
      "[217]\tvalidation-rmse:0.654424\n",
      "[218]\tvalidation-rmse:0.654148\n",
      "[219]\tvalidation-rmse:0.653865\n",
      "[220]\tvalidation-rmse:0.653456\n",
      "[221]\tvalidation-rmse:0.653225\n",
      "[222]\tvalidation-rmse:0.652877\n",
      "[223]\tvalidation-rmse:0.652697\n",
      "[224]\tvalidation-rmse:0.652471\n",
      "[225]\tvalidation-rmse:0.652278\n",
      "[226]\tvalidation-rmse:0.651953\n",
      "[227]\tvalidation-rmse:0.651781\n",
      "[228]\tvalidation-rmse:0.651377\n",
      "[229]\tvalidation-rmse:0.651068\n",
      "[230]\tvalidation-rmse:0.650613\n",
      "[231]\tvalidation-rmse:0.650203\n",
      "[232]\tvalidation-rmse:0.649947\n",
      "[233]\tvalidation-rmse:0.649554\n",
      "[234]\tvalidation-rmse:0.649209\n",
      "[235]\tvalidation-rmse:0.648788\n",
      "[236]\tvalidation-rmse:0.648491\n",
      "[237]\tvalidation-rmse:0.648196\n",
      "[238]\tvalidation-rmse:0.647661\n",
      "[239]\tvalidation-rmse:0.647534\n",
      "[240]\tvalidation-rmse:0.647271\n",
      "[241]\tvalidation-rmse:0.646934\n",
      "[242]\tvalidation-rmse:0.646656\n",
      "[243]\tvalidation-rmse:0.646501\n",
      "[244]\tvalidation-rmse:0.646272\n",
      "[245]\tvalidation-rmse:0.645993\n",
      "[246]\tvalidation-rmse:0.645802\n",
      "[247]\tvalidation-rmse:0.645629\n",
      "[248]\tvalidation-rmse:0.645272\n",
      "[249]\tvalidation-rmse:0.645064\n",
      "[250]\tvalidation-rmse:0.644722\n",
      "[251]\tvalidation-rmse:0.644316\n",
      "[252]\tvalidation-rmse:0.644106\n",
      "[253]\tvalidation-rmse:0.643796\n",
      "[254]\tvalidation-rmse:0.643686\n",
      "[255]\tvalidation-rmse:0.643454\n",
      "[256]\tvalidation-rmse:0.643378\n",
      "[257]\tvalidation-rmse:0.643227\n",
      "[258]\tvalidation-rmse:0.643102\n",
      "[259]\tvalidation-rmse:0.642866\n",
      "[260]\tvalidation-rmse:0.642796\n",
      "[261]\tvalidation-rmse:0.642473\n",
      "[262]\tvalidation-rmse:0.642245\n",
      "[263]\tvalidation-rmse:0.641908\n",
      "[264]\tvalidation-rmse:0.641795\n",
      "[265]\tvalidation-rmse:0.641764\n",
      "[266]\tvalidation-rmse:0.641651\n",
      "[267]\tvalidation-rmse:0.641495\n",
      "[268]\tvalidation-rmse:0.641292\n",
      "[269]\tvalidation-rmse:0.641236\n",
      "[270]\tvalidation-rmse:0.64113\n",
      "[271]\tvalidation-rmse:0.641021\n",
      "[272]\tvalidation-rmse:0.640804\n",
      "[273]\tvalidation-rmse:0.640547\n",
      "[274]\tvalidation-rmse:0.64031\n",
      "[275]\tvalidation-rmse:0.640162\n",
      "[276]\tvalidation-rmse:0.640069\n",
      "[277]\tvalidation-rmse:0.639922\n",
      "[278]\tvalidation-rmse:0.639692\n",
      "[279]\tvalidation-rmse:0.639497\n",
      "[280]\tvalidation-rmse:0.639335\n",
      "[281]\tvalidation-rmse:0.639073\n",
      "[282]\tvalidation-rmse:0.638999\n",
      "[283]\tvalidation-rmse:0.638906\n",
      "[284]\tvalidation-rmse:0.63863\n",
      "[285]\tvalidation-rmse:0.638595\n",
      "[286]\tvalidation-rmse:0.638314\n",
      "[287]\tvalidation-rmse:0.638113\n",
      "[288]\tvalidation-rmse:0.637847\n",
      "[289]\tvalidation-rmse:0.637659\n",
      "[290]\tvalidation-rmse:0.637571\n",
      "[291]\tvalidation-rmse:0.637463\n",
      "[292]\tvalidation-rmse:0.637477\n",
      "[293]\tvalidation-rmse:0.637244\n",
      "[294]\tvalidation-rmse:0.637129\n",
      "[295]\tvalidation-rmse:0.63702\n",
      "[296]\tvalidation-rmse:0.636925\n",
      "[297]\tvalidation-rmse:0.636821\n",
      "[298]\tvalidation-rmse:0.636559\n",
      "[299]\tvalidation-rmse:0.636464\n",
      "[300]\tvalidation-rmse:0.636361\n",
      "[301]\tvalidation-rmse:0.636293\n",
      "[302]\tvalidation-rmse:0.636241\n",
      "[303]\tvalidation-rmse:0.636139\n",
      "[304]\tvalidation-rmse:0.63594\n",
      "[305]\tvalidation-rmse:0.635818\n",
      "[306]\tvalidation-rmse:0.635725\n",
      "[307]\tvalidation-rmse:0.635562\n",
      "[308]\tvalidation-rmse:0.635319\n",
      "[309]\tvalidation-rmse:0.635323\n",
      "[310]\tvalidation-rmse:0.635253\n",
      "[311]\tvalidation-rmse:0.635094\n",
      "[312]\tvalidation-rmse:0.635095\n",
      "[313]\tvalidation-rmse:0.635093\n",
      "[314]\tvalidation-rmse:0.634926\n",
      "[315]\tvalidation-rmse:0.634856\n",
      "[316]\tvalidation-rmse:0.634622\n",
      "[317]\tvalidation-rmse:0.634456\n",
      "[318]\tvalidation-rmse:0.634347\n",
      "[319]\tvalidation-rmse:0.634196\n",
      "[320]\tvalidation-rmse:0.634105\n",
      "[321]\tvalidation-rmse:0.634056\n",
      "[322]\tvalidation-rmse:0.633984\n",
      "[323]\tvalidation-rmse:0.633961\n",
      "[324]\tvalidation-rmse:0.633919\n",
      "[325]\tvalidation-rmse:0.633865\n",
      "[326]\tvalidation-rmse:0.6338\n",
      "[327]\tvalidation-rmse:0.633694\n",
      "[328]\tvalidation-rmse:0.633612\n",
      "[329]\tvalidation-rmse:0.633705\n",
      "[330]\tvalidation-rmse:0.63359\n",
      "[331]\tvalidation-rmse:0.633528\n",
      "[332]\tvalidation-rmse:0.63359\n",
      "[333]\tvalidation-rmse:0.63352\n",
      "[334]\tvalidation-rmse:0.633543\n",
      "[335]\tvalidation-rmse:0.633461\n",
      "[336]\tvalidation-rmse:0.63345\n",
      "[337]\tvalidation-rmse:0.633338\n",
      "[338]\tvalidation-rmse:0.633188\n",
      "[339]\tvalidation-rmse:0.633082\n",
      "[340]\tvalidation-rmse:0.632993\n",
      "[341]\tvalidation-rmse:0.632909\n",
      "[342]\tvalidation-rmse:0.632722\n",
      "[343]\tvalidation-rmse:0.632604\n",
      "[344]\tvalidation-rmse:0.632583\n",
      "[345]\tvalidation-rmse:0.632414\n",
      "[346]\tvalidation-rmse:0.632442\n",
      "[347]\tvalidation-rmse:0.632307\n",
      "[348]\tvalidation-rmse:0.632216\n",
      "[349]\tvalidation-rmse:0.632183\n",
      "[350]\tvalidation-rmse:0.631989\n",
      "[351]\tvalidation-rmse:0.631865\n",
      "[352]\tvalidation-rmse:0.631707\n",
      "[353]\tvalidation-rmse:0.631657\n",
      "[354]\tvalidation-rmse:0.631462\n",
      "[355]\tvalidation-rmse:0.631434\n",
      "[356]\tvalidation-rmse:0.631286\n",
      "[357]\tvalidation-rmse:0.631229\n",
      "[358]\tvalidation-rmse:0.631275\n",
      "[359]\tvalidation-rmse:0.631205\n",
      "[360]\tvalidation-rmse:0.631226\n",
      "[361]\tvalidation-rmse:0.631084\n",
      "[362]\tvalidation-rmse:0.631111\n",
      "[363]\tvalidation-rmse:0.631109\n",
      "[364]\tvalidation-rmse:0.630967\n",
      "[365]\tvalidation-rmse:0.631023\n",
      "[366]\tvalidation-rmse:0.630945\n",
      "[367]\tvalidation-rmse:0.630828\n",
      "[368]\tvalidation-rmse:0.630768\n",
      "[369]\tvalidation-rmse:0.630888\n",
      "[370]\tvalidation-rmse:0.630783\n",
      "[371]\tvalidation-rmse:0.630693\n",
      "[372]\tvalidation-rmse:0.630605\n",
      "[373]\tvalidation-rmse:0.630553\n",
      "[374]\tvalidation-rmse:0.630408\n",
      "[375]\tvalidation-rmse:0.630395\n",
      "[376]\tvalidation-rmse:0.630279\n",
      "[377]\tvalidation-rmse:0.63018\n",
      "[378]\tvalidation-rmse:0.630192\n",
      "[379]\tvalidation-rmse:0.630175\n",
      "[380]\tvalidation-rmse:0.630131\n",
      "[381]\tvalidation-rmse:0.630076\n",
      "[382]\tvalidation-rmse:0.630074\n",
      "[383]\tvalidation-rmse:0.629859\n",
      "[384]\tvalidation-rmse:0.629875\n",
      "[385]\tvalidation-rmse:0.629874\n",
      "[386]\tvalidation-rmse:0.629817\n",
      "[387]\tvalidation-rmse:0.629764\n",
      "[388]\tvalidation-rmse:0.629666\n",
      "[389]\tvalidation-rmse:0.629655\n",
      "[390]\tvalidation-rmse:0.629487\n",
      "[391]\tvalidation-rmse:0.629457\n",
      "[392]\tvalidation-rmse:0.629463\n",
      "[393]\tvalidation-rmse:0.629495\n",
      "[394]\tvalidation-rmse:0.629547\n",
      "[395]\tvalidation-rmse:0.629494\n",
      "[396]\tvalidation-rmse:0.629467\n",
      "[397]\tvalidation-rmse:0.629445\n",
      "[398]\tvalidation-rmse:0.629457\n",
      "[399]\tvalidation-rmse:0.629463\n",
      "[400]\tvalidation-rmse:0.629441\n",
      "[401]\tvalidation-rmse:0.629477\n",
      "[402]\tvalidation-rmse:0.629473\n",
      "[403]\tvalidation-rmse:0.62946\n",
      "[404]\tvalidation-rmse:0.629285\n",
      "[405]\tvalidation-rmse:0.629221\n",
      "[406]\tvalidation-rmse:0.629161\n",
      "[407]\tvalidation-rmse:0.62921\n",
      "[408]\tvalidation-rmse:0.629261\n",
      "[409]\tvalidation-rmse:0.62905\n",
      "[410]\tvalidation-rmse:0.628948\n",
      "[411]\tvalidation-rmse:0.628911\n",
      "[412]\tvalidation-rmse:0.628702\n",
      "[413]\tvalidation-rmse:0.628678\n",
      "[414]\tvalidation-rmse:0.628547\n",
      "[415]\tvalidation-rmse:0.628559\n",
      "[416]\tvalidation-rmse:0.628403\n",
      "[417]\tvalidation-rmse:0.628341\n",
      "[418]\tvalidation-rmse:0.628356\n",
      "[419]\tvalidation-rmse:0.628168\n",
      "[420]\tvalidation-rmse:0.628116\n",
      "[421]\tvalidation-rmse:0.628013\n",
      "[422]\tvalidation-rmse:0.627983\n",
      "[423]\tvalidation-rmse:0.627981\n",
      "[424]\tvalidation-rmse:0.628003\n",
      "[425]\tvalidation-rmse:0.627954\n",
      "[426]\tvalidation-rmse:0.627869\n",
      "[427]\tvalidation-rmse:0.627842\n",
      "[428]\tvalidation-rmse:0.627733\n",
      "[429]\tvalidation-rmse:0.627731\n",
      "[430]\tvalidation-rmse:0.627686\n",
      "[431]\tvalidation-rmse:0.627617\n",
      "[432]\tvalidation-rmse:0.627525\n",
      "[433]\tvalidation-rmse:0.627477\n",
      "[434]\tvalidation-rmse:0.62735\n",
      "[435]\tvalidation-rmse:0.627343\n",
      "[436]\tvalidation-rmse:0.627298\n",
      "[437]\tvalidation-rmse:0.62717\n",
      "[438]\tvalidation-rmse:0.627114\n",
      "[439]\tvalidation-rmse:0.627111\n",
      "[440]\tvalidation-rmse:0.627128\n",
      "[441]\tvalidation-rmse:0.627189\n",
      "[442]\tvalidation-rmse:0.627085\n",
      "[443]\tvalidation-rmse:0.627066\n",
      "[444]\tvalidation-rmse:0.627024\n",
      "[445]\tvalidation-rmse:0.627049\n",
      "[446]\tvalidation-rmse:0.62701\n",
      "[447]\tvalidation-rmse:0.62693\n",
      "[448]\tvalidation-rmse:0.626872\n",
      "[449]\tvalidation-rmse:0.626834\n",
      "[450]\tvalidation-rmse:0.626834\n",
      "[451]\tvalidation-rmse:0.626755\n",
      "[452]\tvalidation-rmse:0.626814\n",
      "[453]\tvalidation-rmse:0.626715\n",
      "[454]\tvalidation-rmse:0.626685\n",
      "[455]\tvalidation-rmse:0.626754\n",
      "[456]\tvalidation-rmse:0.626667\n",
      "[457]\tvalidation-rmse:0.626614\n",
      "[458]\tvalidation-rmse:0.626656\n",
      "[459]\tvalidation-rmse:0.626682\n",
      "[460]\tvalidation-rmse:0.626644\n",
      "[461]\tvalidation-rmse:0.626614\n",
      "[462]\tvalidation-rmse:0.626521\n",
      "[463]\tvalidation-rmse:0.626427\n",
      "[464]\tvalidation-rmse:0.626478\n",
      "[465]\tvalidation-rmse:0.626368\n",
      "[466]\tvalidation-rmse:0.626243\n",
      "[467]\tvalidation-rmse:0.626243\n",
      "[468]\tvalidation-rmse:0.626165\n",
      "[469]\tvalidation-rmse:0.626133\n",
      "[470]\tvalidation-rmse:0.625936\n",
      "[471]\tvalidation-rmse:0.625942\n",
      "[472]\tvalidation-rmse:0.625928\n",
      "[473]\tvalidation-rmse:0.6259\n",
      "[474]\tvalidation-rmse:0.625898\n",
      "[475]\tvalidation-rmse:0.625909\n",
      "[476]\tvalidation-rmse:0.625744\n",
      "[477]\tvalidation-rmse:0.625792\n",
      "[478]\tvalidation-rmse:0.625755\n",
      "[479]\tvalidation-rmse:0.625594\n",
      "[480]\tvalidation-rmse:0.625467\n",
      "[481]\tvalidation-rmse:0.625496\n",
      "[482]\tvalidation-rmse:0.625442\n",
      "[483]\tvalidation-rmse:0.625387\n",
      "[484]\tvalidation-rmse:0.625327\n",
      "[485]\tvalidation-rmse:0.625164\n",
      "[486]\tvalidation-rmse:0.625161\n",
      "[487]\tvalidation-rmse:0.625209\n",
      "[488]\tvalidation-rmse:0.625146\n",
      "[489]\tvalidation-rmse:0.625046\n",
      "[490]\tvalidation-rmse:0.625158\n",
      "[491]\tvalidation-rmse:0.625098\n",
      "[492]\tvalidation-rmse:0.625117\n",
      "[493]\tvalidation-rmse:0.625022\n",
      "[494]\tvalidation-rmse:0.625089\n",
      "[495]\tvalidation-rmse:0.625037\n",
      "[496]\tvalidation-rmse:0.625061\n",
      "[497]\tvalidation-rmse:0.62498\n",
      "[498]\tvalidation-rmse:0.62495\n",
      "[499]\tvalidation-rmse:0.624868\n",
      "[500]\tvalidation-rmse:0.624765\n",
      "[501]\tvalidation-rmse:0.624712\n",
      "[502]\tvalidation-rmse:0.624725\n",
      "[503]\tvalidation-rmse:0.624772\n",
      "[504]\tvalidation-rmse:0.624713\n",
      "[505]\tvalidation-rmse:0.624638\n",
      "[506]\tvalidation-rmse:0.624571\n",
      "[507]\tvalidation-rmse:0.624628\n",
      "[508]\tvalidation-rmse:0.624602\n",
      "[509]\tvalidation-rmse:0.624668\n",
      "[510]\tvalidation-rmse:0.624676\n",
      "[511]\tvalidation-rmse:0.624657\n",
      "[512]\tvalidation-rmse:0.624603\n",
      "[513]\tvalidation-rmse:0.624556\n",
      "[514]\tvalidation-rmse:0.624552\n",
      "[515]\tvalidation-rmse:0.624585\n",
      "[516]\tvalidation-rmse:0.624636\n",
      "[517]\tvalidation-rmse:0.624584\n",
      "[518]\tvalidation-rmse:0.624539\n",
      "[519]\tvalidation-rmse:0.624532\n",
      "[520]\tvalidation-rmse:0.624545\n",
      "[521]\tvalidation-rmse:0.624598\n",
      "[522]\tvalidation-rmse:0.62452\n",
      "[523]\tvalidation-rmse:0.624528\n",
      "[524]\tvalidation-rmse:0.624668\n",
      "[525]\tvalidation-rmse:0.624674\n",
      "[526]\tvalidation-rmse:0.624727\n",
      "[527]\tvalidation-rmse:0.624725\n",
      "[528]\tvalidation-rmse:0.624628\n",
      "[529]\tvalidation-rmse:0.624646\n",
      "[530]\tvalidation-rmse:0.624637\n",
      "[531]\tvalidation-rmse:0.624625\n",
      "[532]\tvalidation-rmse:0.624641\n",
      "[533]\tvalidation-rmse:0.624664\n",
      "[534]\tvalidation-rmse:0.624709\n",
      "[535]\tvalidation-rmse:0.62472\n",
      "[536]\tvalidation-rmse:0.624764\n",
      "[537]\tvalidation-rmse:0.624695\n",
      "[538]\tvalidation-rmse:0.624683\n",
      "[539]\tvalidation-rmse:0.624664\n",
      "[540]\tvalidation-rmse:0.624648\n",
      "[541]\tvalidation-rmse:0.624666\n",
      "[542]\tvalidation-rmse:0.624618\n",
      "[543]\tvalidation-rmse:0.624541\n",
      "[544]\tvalidation-rmse:0.624505\n",
      "[545]\tvalidation-rmse:0.624483\n",
      "[546]\tvalidation-rmse:0.624624\n",
      "[547]\tvalidation-rmse:0.624573\n",
      "[548]\tvalidation-rmse:0.624522\n",
      "[549]\tvalidation-rmse:0.624476\n",
      "[550]\tvalidation-rmse:0.624451\n",
      "[551]\tvalidation-rmse:0.62444\n",
      "[552]\tvalidation-rmse:0.624412\n",
      "[553]\tvalidation-rmse:0.624388\n",
      "[554]\tvalidation-rmse:0.624327\n",
      "[555]\tvalidation-rmse:0.624319\n",
      "[556]\tvalidation-rmse:0.624293\n",
      "[557]\tvalidation-rmse:0.624125\n",
      "[558]\tvalidation-rmse:0.624126\n",
      "[559]\tvalidation-rmse:0.624127\n",
      "[560]\tvalidation-rmse:0.624153\n",
      "[561]\tvalidation-rmse:0.624121\n",
      "[562]\tvalidation-rmse:0.624131\n",
      "[563]\tvalidation-rmse:0.624169\n",
      "[564]\tvalidation-rmse:0.624163\n",
      "[565]\tvalidation-rmse:0.624192\n",
      "[566]\tvalidation-rmse:0.624227\n",
      "[567]\tvalidation-rmse:0.624224\n",
      "[568]\tvalidation-rmse:0.624238\n",
      "[569]\tvalidation-rmse:0.624303\n",
      "[570]\tvalidation-rmse:0.624211\n",
      "[571]\tvalidation-rmse:0.62421\n",
      "[572]\tvalidation-rmse:0.624218\n",
      "[573]\tvalidation-rmse:0.624223\n",
      "[574]\tvalidation-rmse:0.624266\n",
      "[575]\tvalidation-rmse:0.624244\n",
      "[576]\tvalidation-rmse:0.624236\n",
      "[577]\tvalidation-rmse:0.624201\n",
      "[578]\tvalidation-rmse:0.624184\n",
      "[579]\tvalidation-rmse:0.624193\n",
      "[580]\tvalidation-rmse:0.62414\n",
      "[581]\tvalidation-rmse:0.624182\n",
      "[582]\tvalidation-rmse:0.624158\n",
      "[583]\tvalidation-rmse:0.624052\n",
      "[584]\tvalidation-rmse:0.624056\n",
      "[585]\tvalidation-rmse:0.623991\n",
      "[586]\tvalidation-rmse:0.623924\n",
      "[587]\tvalidation-rmse:0.623887\n",
      "[588]\tvalidation-rmse:0.623933\n",
      "[589]\tvalidation-rmse:0.623882\n",
      "[590]\tvalidation-rmse:0.623857\n",
      "[591]\tvalidation-rmse:0.623909\n",
      "[592]\tvalidation-rmse:0.623961\n",
      "[593]\tvalidation-rmse:0.624021\n",
      "[594]\tvalidation-rmse:0.624009\n",
      "[595]\tvalidation-rmse:0.623924\n",
      "[596]\tvalidation-rmse:0.623962\n",
      "[597]\tvalidation-rmse:0.623817\n",
      "[598]\tvalidation-rmse:0.623792\n",
      "[599]\tvalidation-rmse:0.623869\n",
      "[600]\tvalidation-rmse:0.623844\n",
      "[601]\tvalidation-rmse:0.623746\n",
      "[602]\tvalidation-rmse:0.623823\n",
      "[603]\tvalidation-rmse:0.623888\n",
      "[604]\tvalidation-rmse:0.623845\n",
      "[605]\tvalidation-rmse:0.623804\n",
      "[606]\tvalidation-rmse:0.623743\n",
      "[607]\tvalidation-rmse:0.623789\n",
      "[608]\tvalidation-rmse:0.623726\n",
      "[609]\tvalidation-rmse:0.623684\n",
      "[610]\tvalidation-rmse:0.623661\n",
      "[611]\tvalidation-rmse:0.623693\n",
      "[612]\tvalidation-rmse:0.623669\n",
      "[613]\tvalidation-rmse:0.623646\n",
      "[614]\tvalidation-rmse:0.623725\n",
      "[615]\tvalidation-rmse:0.623755\n",
      "[616]\tvalidation-rmse:0.623785\n",
      "[617]\tvalidation-rmse:0.623801\n",
      "[618]\tvalidation-rmse:0.623854\n",
      "[619]\tvalidation-rmse:0.623792\n",
      "[620]\tvalidation-rmse:0.623785\n",
      "[621]\tvalidation-rmse:0.623805\n",
      "[622]\tvalidation-rmse:0.623688\n",
      "[623]\tvalidation-rmse:0.62363\n",
      "[624]\tvalidation-rmse:0.623717\n",
      "[625]\tvalidation-rmse:0.623769\n",
      "[626]\tvalidation-rmse:0.623755\n",
      "[627]\tvalidation-rmse:0.623789\n",
      "[628]\tvalidation-rmse:0.623783\n",
      "[629]\tvalidation-rmse:0.623767\n",
      "[630]\tvalidation-rmse:0.623811\n",
      "[631]\tvalidation-rmse:0.623856\n",
      "[632]\tvalidation-rmse:0.623865\n",
      "[633]\tvalidation-rmse:0.623936\n",
      "[634]\tvalidation-rmse:0.623881\n",
      "[635]\tvalidation-rmse:0.623945\n",
      "[636]\tvalidation-rmse:0.623981\n",
      "[637]\tvalidation-rmse:0.624009\n",
      "[638]\tvalidation-rmse:0.624109\n",
      "[639]\tvalidation-rmse:0.624042\n",
      "[640]\tvalidation-rmse:0.624129\n",
      "[641]\tvalidation-rmse:0.624112\n",
      "[642]\tvalidation-rmse:0.624072\n",
      "[643]\tvalidation-rmse:0.62404\n",
      "[644]\tvalidation-rmse:0.62394\n",
      "[645]\tvalidation-rmse:0.624028\n",
      "[646]\tvalidation-rmse:0.624042\n",
      "[647]\tvalidation-rmse:0.624009\n",
      "[648]\tvalidation-rmse:0.624071\n",
      "[649]\tvalidation-rmse:0.623932\n",
      "[650]\tvalidation-rmse:0.623899\n",
      "[651]\tvalidation-rmse:0.623867\n",
      "[652]\tvalidation-rmse:0.62381\n",
      "[653]\tvalidation-rmse:0.623737\n",
      "Stopping. Best iteration:\n",
      "[623]\tvalidation-rmse:0.62363\n",
      "\n"
     ]
    }
   ],
   "source": [
    "gb_model = xgb.train(params, \n",
    "                     dtrain=xgtrain, \n",
    "                     evals=[(xgval,\"validation\")], \n",
    "                     early_stopping_rounds = 30,\n",
    "                     num_boost_round = 2000,\n",
    "                     obj = mse)"
   ]
  },
  {
   "cell_type": "code",
   "execution_count": 42,
   "metadata": {
    "collapsed": true
   },
   "outputs": [],
   "source": [
    "gb_pred = gb_model.predict(xgb.DMatrix(X_test))"
   ]
  },
  {
   "cell_type": "code",
   "execution_count": 77,
   "metadata": {
    "collapsed": false
   },
   "outputs": [
    {
     "data": {
      "text/plain": [
       "0.38904757242982996"
      ]
     },
     "execution_count": 77,
     "metadata": {},
     "output_type": "execute_result"
    }
   ],
   "source": [
    "eva(gb_pred, y_test)"
   ]
  },
  {
   "cell_type": "code",
   "execution_count": 11,
   "metadata": {
    "collapsed": false
   },
   "outputs": [
    {
     "data": {
      "image/png": "[encoded data removed]",
      "text/plain": [
       "<matplotlib.figure.Figure at 0x7f20a14a9160>"
      ]
     },
     "metadata": {},
     "output_type": "display_data"
    }
   ],
   "source": [
    "plt.figure(figsize=(10,6));\n",
    "sns.regplot(x=(np.log(y_test+1)), y = gb_pred-(np.log(y_test+1)),fit_reg=False,color=\"black\");\n",
    "plt.title(\"True value vs Residuals\", fontsize=20);\n",
    "plt.xlabel(\"True value\", fontsize=20);\n",
    "plt.ylabel(\"Residuals\", fontsize=20);"
   ]
  },
  {
   "cell_type": "markdown",
   "metadata": {},
   "source": [
    "# predict the train target and evaluate"
   ]
  },
  {
   "cell_type": "code",
   "execution_count": 12,
   "metadata": {
    "collapsed": true
   },
   "outputs": [],
   "source": [
    "gb_pred_train = gb_model.predict(xgb.DMatrix(X_train))"
   ]
  },
  {
   "cell_type": "code",
   "execution_count": 24,
   "metadata": {
    "collapsed": false
   },
   "outputs": [
    {
     "data": {
      "image/png": "[encoded data removed]",
      "text/plain": [
       "<matplotlib.figure.Figure at 0x7f2620126630>"
      ]
     },
     "metadata": {},
     "output_type": "display_data"
    }
   ],
   "source": [
    "plt.figure(figsize=(10,6));\n",
    "sns.regplot(x=(np.log(y_train+1)), y = gb_pred_train-(np.log(y_train+1)),fit_reg=False,color=\"black\");\n",
    "plt.title(\"Residuals vs Fitted\", fontsize=20);\n",
    "plt.xlabel(\"Fitted values\", fontsize=20);\n",
    "plt.ylabel(\"Residuals\", fontsize=20);\n",
    "# # plt.savefig(\"/home/peiran/Semester3/STAT542/Project/Report/Resid_fit_rft.png\")"
   ]
  },
  {
   "cell_type": "markdown",
   "metadata": {},
   "source": [
    "## Evaluation of predictions"
   ]
  },
  {
   "cell_type": "markdown",
   "metadata": {},
   "source": [
    "### properly rank the orginal values"
   ]
  },
  {
   "cell_type": "code",
   "execution_count": 162,
   "metadata": {
    "collapsed": true
   },
   "outputs": [],
   "source": [
    "comp = pd.DataFrame({\"pred\":gb_pred,\"real\":y_test})\n",
    "comp_sort = comp.sort_values(\"pred\")\n",
    "gp = pd.qcut(comp[\"pred\"],10)"
   ]
  },
  {
   "cell_type": "code",
   "execution_count": 169,
   "metadata": {
    "collapsed": false
   },
   "outputs": [],
   "source": [
    "quantile_plot = comp[\"real\"].groupby(gp).apply(lambda x: x.quantile([0.99]))"
   ]
  },
  {
   "cell_type": "code",
   "execution_count": 170,
   "metadata": {
    "collapsed": false,
    "scrolled": true
   },
   "outputs": [
    {
     "data": {
      "text/plain": [
       "pred                  \n",
       "[-0.186, 0.0054]  0.99      0.00\n",
       "(0.0054, 0.0162]  0.99      1.00\n",
       "(0.0162, 0.0402]  0.99      1.00\n",
       "(0.0402, 0.0935]  0.99      2.00\n",
       "(0.0935, 0.174]   0.99      4.39\n",
       "(0.174, 0.301]    0.99     14.78\n",
       "(0.301, 0.524]    0.99     11.14\n",
       "(0.524, 0.902]    0.99     21.29\n",
       "(0.902, 1.609]    0.99     57.07\n",
       "(1.609, 5.767]    0.99    433.70\n",
       "Name: real, dtype: float64"
      ]
     },
     "execution_count": 170,
     "metadata": {},
     "output_type": "execute_result"
    }
   ],
   "source": [
    "quantile_plot"
   ]
  },
  {
   "cell_type": "code",
   "execution_count": 171,
   "metadata": {
    "collapsed": false,
    "scrolled": true
   },
   "outputs": [
    {
     "data": {
      "image/png": "[encoded data removed]",
      "text/plain": [
       "<matplotlib.figure.Figure at 0x7f2084570908>"
      ]
     },
     "metadata": {},
     "output_type": "display_data"
    }
   ],
   "source": [
    "plt.figure(figsize = (10,6));\n",
    "sns.barplot(x = np.arange(1,11), y=quantile_plot,color = \"black\");\n",
    "plt.title(\"90% quantiles of each pieces\", fontsize=20);\n",
    "plt.xlabel(\"Pieces rank\", fontsize=20);\n",
    "plt.ylabel(\"90% quantile\", fontsize=20);\n",
    "# plt.savefig(\"/home/peiran/Semester3/STAT542/Project/Report/90_quantile_train.png\");"
   ]
  },
  {
   "cell_type": "code",
   "execution_count": null,
   "metadata": {
    "collapsed": true
   },
   "outputs": [],
   "source": []
  },
  {
   "cell_type": "code",
   "execution_count": null,
   "metadata": {
    "collapsed": true
   },
   "outputs": [],
   "source": []
  },
  {
   "cell_type": "code",
   "execution_count": null,
   "metadata": {
    "collapsed": true
   },
   "outputs": [],
   "source": []
  },
  {
   "cell_type": "code",
   "execution_count": null,
   "metadata": {
    "collapsed": true
   },
   "outputs": [],
   "source": []
  },
  {
   "cell_type": "code",
   "execution_count": null,
   "metadata": {
    "collapsed": true
   },
   "outputs": [],
   "source": []
  },
  {
   "cell_type": "code",
   "execution_count": null,
   "metadata": {
    "collapsed": true
   },
   "outputs": [],
   "source": []
  },
  {
   "cell_type": "markdown",
   "metadata": {},
   "source": [
    "### overestimate or underestimate?"
   ]
  },
  {
   "cell_type": "code",
   "execution_count": 222,
   "metadata": {
    "collapsed": false
   },
   "outputs": [
    {
     "data": {
      "image/png": "[encoded data removed]",
      "text/plain": [
       "<matplotlib.figure.Figure at 0x7ff21d9453c8>"
      ]
     },
     "metadata": {},
     "output_type": "display_data"
    }
   ],
   "source": [
    "diff = comp[\"pred\"]-comp[\"real\"]\n",
    "plt.scatter(x=range(len(diff)),y=diff);"
   ]
  },
  {
   "cell_type": "code",
   "execution_count": 217,
   "metadata": {
    "collapsed": true
   },
   "outputs": [],
   "source": [
    "comp_zero = comp.ix[comp[\"real\"]==0,:]"
   ]
  },
  {
   "cell_type": "code",
   "execution_count": 218,
   "metadata": {
    "collapsed": true
   },
   "outputs": [],
   "source": [
    "comp_nonzero = comp.ix[comp[\"real\"]>0,:]"
   ]
  },
  {
   "cell_type": "code",
   "execution_count": 221,
   "metadata": {
    "collapsed": false
   },
   "outputs": [
    {
     "data": {
      "text/plain": [
       "0.7018625393494229"
      ]
     },
     "execution_count": 221,
     "metadata": {},
     "output_type": "execute_result"
    }
   ],
   "source": [
    "# zero ratio\n",
    "comp_zero.shape[0]/comp.shape[0]"
   ]
  },
  {
   "cell_type": "markdown",
   "metadata": {},
   "source": [
    "### zero"
   ]
  },
  {
   "cell_type": "code",
   "execution_count": 245,
   "metadata": {
    "collapsed": false
   },
   "outputs": [
    {
     "data": {
      "image/png": "[encoded data removed]",
      "text/plain": [
       "<matplotlib.figure.Figure at 0x7ff21d92e2e8>"
      ]
     },
     "metadata": {},
     "output_type": "display_data"
    }
   ],
   "source": [
    "diff_zero = comp_zero[\"pred\"]-comp_zero[\"real\"]\n",
    "plt.scatter(x=range(len(diff_zero)),y=diff_zero);"
   ]
  },
  {
   "cell_type": "code",
   "execution_count": 262,
   "metadata": {
    "collapsed": false
   },
   "outputs": [
    {
     "data": {
      "text/plain": [
       "array([-0.02, -0.01, -0.  ,  0.  ,  0.01,  0.01,  0.06,  0.25,  0.31,\n",
       "        0.58,  0.68,  0.79,  0.96,  1.21,  1.51])"
      ]
     },
     "execution_count": 262,
     "metadata": {},
     "output_type": "execute_result"
    }
   ],
   "source": [
    "np.percentile(diff_zero,[1,2,5,10,20,25,50,75,80,90,92,94,96,98,99]).round(2)"
   ]
  },
  {
   "cell_type": "code",
   "execution_count": 263,
   "metadata": {
    "collapsed": false
   },
   "outputs": [
    {
     "data": {
      "text/plain": [
       "array([-0.02, -0.01, -0.  ,  0.  ,  0.01,  0.01,  0.06,  0.25,  0.31,\n",
       "        0.58,  0.68,  0.79,  0.96,  1.21,  1.51])"
      ]
     },
     "execution_count": 263,
     "metadata": {},
     "output_type": "execute_result"
    }
   ],
   "source": [
    "np.percentile(comp_zero[\"pred\"],[1,2,5,10,20,25,50,75,80,90,92,94,96,98,99]).round(2)"
   ]
  },
  {
   "cell_type": "code",
   "execution_count": 291,
   "metadata": {
    "collapsed": false
   },
   "outputs": [
    {
     "data": {
      "text/plain": [
       "0.14368880224720723"
      ]
     },
     "execution_count": 291,
     "metadata": {},
     "output_type": "execute_result"
    }
   ],
   "source": [
    "(diff_zero**2).mean()"
   ]
  },
  {
   "cell_type": "markdown",
   "metadata": {},
   "source": [
    "### nonzero"
   ]
  },
  {
   "cell_type": "code",
   "execution_count": 255,
   "metadata": {
    "collapsed": false
   },
   "outputs": [
    {
     "data": {
      "image/png": "[encoded data removed]",
      "text/plain": [
       "<matplotlib.figure.Figure at 0x7ff21e4980f0>"
      ]
     },
     "metadata": {},
     "output_type": "display_data"
    }
   ],
   "source": [
    "diff_nonzero = comp_nonzero[\"pred\"]-comp_nonzero[\"real\"]\n",
    "plt.scatter(x=range(len(diff_nonzero)),y=diff_nonzero);"
   ]
  },
  {
   "cell_type": "code",
   "execution_count": 304,
   "metadata": {
    "collapsed": false
   },
   "outputs": [
    {
     "data": {
      "text/plain": [
       "(array([  1.00000000e+00,   9.00000000e+00,   1.40000000e+01,\n",
       "          4.60000000e+01,   1.62000000e+02,   5.22000000e+02,\n",
       "          1.03500000e+03,   3.75000000e+02,   8.90000000e+01,\n",
       "          2.00000000e+01]),\n",
       " array([-5.41829625, -4.6277506 , -3.83720496, -3.04665931, -2.25611366,\n",
       "        -1.46556801, -0.67502236,  0.11552328,  0.90606893,  1.69661458,\n",
       "         2.48716023]),\n",
       " <a list of 10 Patch objects>)"
      ]
     },
     "execution_count": 304,
     "metadata": {},
     "output_type": "execute_result"
    },
    {
     "data": {
      "image/png": "[encoded data removed]",
      "text/plain": [
       "<matplotlib.figure.Figure at 0x7ff21d4f5f60>"
      ]
     },
     "metadata": {},
     "output_type": "display_data"
    }
   ],
   "source": [
    "plt.hist(diff_nonzero)"
   ]
  },
  {
   "cell_type": "code",
   "execution_count": 264,
   "metadata": {
    "collapsed": false
   },
   "outputs": [
    {
     "data": {
      "text/plain": [
       "array([-3.16, -2.62, -1.88, -1.47, -1.02, -0.86, -0.44,  0.03,  0.15,\n",
       "        0.53,  0.66,  0.8 ,  0.99,  1.34,  1.6 ])"
      ]
     },
     "execution_count": 264,
     "metadata": {},
     "output_type": "execute_result"
    }
   ],
   "source": [
    "np.percentile(diff_nonzero,[1,2,5,10,20,25,50,75,80,90,92,94,96,98,99]).round(2)"
   ]
  },
  {
   "cell_type": "code",
   "execution_count": 265,
   "metadata": {
    "collapsed": false
   },
   "outputs": [
    {
     "data": {
      "text/plain": [
       "array([ 0.02,  0.03,  0.11,  0.22,  0.41,  0.5 ,  1.05,  1.94,  2.16,\n",
       "        2.87,  3.08,  3.29,  3.58,  4.02,  4.53])"
      ]
     },
     "execution_count": 265,
     "metadata": {},
     "output_type": "execute_result"
    }
   ],
   "source": [
    "np.percentile(comp_nonzero[\"pred\"],[1,2,5,10,20,25,50,75,80,90,92,94,96,98,99]).round(2)"
   ]
  },
  {
   "cell_type": "markdown",
   "metadata": {},
   "source": [
    "50% overlap"
   ]
  },
  {
   "cell_type": "code",
   "execution_count": 278,
   "metadata": {
    "collapsed": false
   },
   "outputs": [],
   "source": [
    "comp_nonzero_sort = comp_nonzero.sort_values(\"real\")\n",
    "gp_nonzero = pd.qcut(range(comp_nonzero_sort.shape[0]),10)"
   ]
  },
  {
   "cell_type": "code",
   "execution_count": 305,
   "metadata": {
    "collapsed": false
   },
   "outputs": [
    {
     "data": {
      "text/plain": [
       "[0, 227.2]        0.75    0.979458\n",
       "(227.2, 454.4]    0.75    0.778564\n",
       "(454.4, 681.6]    0.75    0.786862\n",
       "(681.6, 908.8]    0.75    1.400088\n",
       "(908.8, 1136]     0.75    1.394438\n",
       "(1136, 1363.2]    0.75    1.548450\n",
       "(1363.2, 1590.4]  0.75    1.936016\n",
       "(1590.4, 1817.6]  0.75    2.237192\n",
       "(1817.6, 2044.8]  0.75    2.806559\n",
       "(2044.8, 2272]    0.75    3.774189\n",
       "Name: pred, dtype: float64"
      ]
     },
     "execution_count": 305,
     "metadata": {},
     "output_type": "execute_result"
    }
   ],
   "source": [
    "comp_nonzero_sort[\"pred\"].groupby(gp_nonzero).apply(lambda x: x.quantile([0.75]))"
   ]
  },
  {
   "cell_type": "code",
   "execution_count": 306,
   "metadata": {
    "collapsed": false
   },
   "outputs": [
    {
     "data": {
      "text/plain": [
       "[0, 227.2]        0.75    0.693147\n",
       "(227.2, 454.4]    0.75    0.693147\n",
       "(454.4, 681.6]    0.75    0.693147\n",
       "(681.6, 908.8]    0.75    1.098612\n",
       "(908.8, 1136]     0.75    1.386294\n",
       "(1136, 1363.2]    0.75    1.609438\n",
       "(1363.2, 1590.4]  0.75    1.945910\n",
       "(1590.4, 1817.6]  0.75    2.484907\n",
       "(1817.6, 2044.8]  0.75    3.258097\n",
       "(2044.8, 2272]    0.75    5.067297\n",
       "Name: real, dtype: float64"
      ]
     },
     "execution_count": 306,
     "metadata": {},
     "output_type": "execute_result"
    }
   ],
   "source": [
    "comp_nonzero_sort[\"real\"].groupby(gp_nonzero).apply(lambda x:x.quantile([0.75]))"
   ]
  },
  {
   "cell_type": "code",
   "execution_count": 292,
   "metadata": {
    "collapsed": false
   },
   "outputs": [
    {
     "data": {
      "text/plain": [
       "0.960209679600689"
      ]
     },
     "execution_count": 292,
     "metadata": {},
     "output_type": "execute_result"
    }
   ],
   "source": [
    "(diff_nonzero**2).mean()"
   ]
  },
  {
   "cell_type": "code",
   "execution_count": 298,
   "metadata": {
    "collapsed": false
   },
   "outputs": [
    {
     "data": {
      "text/plain": [
       "0.2981374606505771"
      ]
     },
     "execution_count": 298,
     "metadata": {},
     "output_type": "execute_result"
    }
   ],
   "source": [
    "comp_nonzero.shape[0]/comp.shape[0]"
   ]
  },
  {
   "cell_type": "code",
   "execution_count": 302,
   "metadata": {
    "collapsed": false
   },
   "outputs": [
    {
     "data": {
      "text/plain": [
       "0.2862744755682537"
      ]
     },
     "execution_count": 302,
     "metadata": {},
     "output_type": "execute_result"
    }
   ],
   "source": [
    "0.960209679600689*0.2981374606505771"
   ]
  },
  {
   "cell_type": "code",
   "execution_count": 299,
   "metadata": {
    "collapsed": false
   },
   "outputs": [
    {
     "data": {
      "text/plain": [
       "0.14368880224720723"
      ]
     },
     "execution_count": 299,
     "metadata": {},
     "output_type": "execute_result"
    }
   ],
   "source": [
    "(diff_zero**2).mean()"
   ]
  },
  {
   "cell_type": "code",
   "execution_count": 300,
   "metadata": {
    "collapsed": false
   },
   "outputs": [
    {
     "data": {
      "text/plain": [
       "0.7018625393494229"
      ]
     },
     "execution_count": 300,
     "metadata": {},
     "output_type": "execute_result"
    }
   ],
   "source": [
    "comp_zero.shape[0]/comp.shape[0]"
   ]
  },
  {
   "cell_type": "code",
   "execution_count": 303,
   "metadata": {
    "collapsed": false
   },
   "outputs": [
    {
     "data": {
      "text/plain": [
       "0.10084978762130192"
      ]
     },
     "execution_count": 303,
     "metadata": {},
     "output_type": "execute_result"
    }
   ],
   "source": [
    "0.14368880224720723*0.7018625393494229"
   ]
  },
  {
   "cell_type": "markdown",
   "metadata": {},
   "source": [
    "We may need to solve the problem of underestimate of high values first"
   ]
  },
  {
   "cell_type": "markdown",
   "metadata": {},
   "source": [
    "# check whether the rank of prediction is consistant with rank of real"
   ]
  },
  {
   "cell_type": "code",
   "execution_count": null,
   "metadata": {
    "collapsed": true
   },
   "outputs": [],
   "source": [
    "# comp = pd.DataFrame({\"pred\":gb_pred,\"real\":np.log(y_train+1)})"
   ]
  },
  {
   "cell_type": "code",
   "execution_count": 194,
   "metadata": {
    "collapsed": false,
    "scrolled": false
   },
   "outputs": [
    {
     "data": {
      "text/html": [
       "<div>\n",
       "<table border=\"1\" class=\"dataframe\">\n",
       "  <thead>\n",
       "    <tr style=\"text-align: right;\">\n",
       "      <th></th>\n",
       "      <th>pred</th>\n",
       "      <th>real</th>\n",
       "    </tr>\n",
       "  </thead>\n",
       "  <tbody>\n",
       "    <tr>\n",
       "      <th>2015</th>\n",
       "      <td>3.465901</td>\n",
       "      <td>224.0</td>\n",
       "    </tr>\n",
       "    <tr>\n",
       "      <th>1666</th>\n",
       "      <td>3.467500</td>\n",
       "      <td>138.0</td>\n",
       "    </tr>\n",
       "    <tr>\n",
       "      <th>7238</th>\n",
       "      <td>3.468887</td>\n",
       "      <td>229.0</td>\n",
       "    </tr>\n",
       "    <tr>\n",
       "      <th>3049</th>\n",
       "      <td>3.493703</td>\n",
       "      <td>8.0</td>\n",
       "    </tr>\n",
       "    <tr>\n",
       "      <th>5130</th>\n",
       "      <td>3.494345</td>\n",
       "      <td>30.0</td>\n",
       "    </tr>\n",
       "    <tr>\n",
       "      <th>5033</th>\n",
       "      <td>3.498706</td>\n",
       "      <td>23.0</td>\n",
       "    </tr>\n",
       "    <tr>\n",
       "      <th>7136</th>\n",
       "      <td>3.499852</td>\n",
       "      <td>29.0</td>\n",
       "    </tr>\n",
       "    <tr>\n",
       "      <th>1473</th>\n",
       "      <td>3.502113</td>\n",
       "      <td>11.0</td>\n",
       "    </tr>\n",
       "    <tr>\n",
       "      <th>5450</th>\n",
       "      <td>3.505465</td>\n",
       "      <td>140.0</td>\n",
       "    </tr>\n",
       "    <tr>\n",
       "      <th>6218</th>\n",
       "      <td>3.509343</td>\n",
       "      <td>35.0</td>\n",
       "    </tr>\n",
       "    <tr>\n",
       "      <th>7034</th>\n",
       "      <td>3.520776</td>\n",
       "      <td>105.0</td>\n",
       "    </tr>\n",
       "    <tr>\n",
       "      <th>3952</th>\n",
       "      <td>3.528404</td>\n",
       "      <td>34.0</td>\n",
       "    </tr>\n",
       "    <tr>\n",
       "      <th>7131</th>\n",
       "      <td>3.564714</td>\n",
       "      <td>551.0</td>\n",
       "    </tr>\n",
       "    <tr>\n",
       "      <th>6514</th>\n",
       "      <td>3.577671</td>\n",
       "      <td>9.0</td>\n",
       "    </tr>\n",
       "    <tr>\n",
       "      <th>6928</th>\n",
       "      <td>3.588322</td>\n",
       "      <td>43.0</td>\n",
       "    </tr>\n",
       "    <tr>\n",
       "      <th>6750</th>\n",
       "      <td>3.598106</td>\n",
       "      <td>148.0</td>\n",
       "    </tr>\n",
       "    <tr>\n",
       "      <th>275</th>\n",
       "      <td>3.609417</td>\n",
       "      <td>39.0</td>\n",
       "    </tr>\n",
       "    <tr>\n",
       "      <th>2255</th>\n",
       "      <td>3.610135</td>\n",
       "      <td>142.0</td>\n",
       "    </tr>\n",
       "    <tr>\n",
       "      <th>4631</th>\n",
       "      <td>3.612903</td>\n",
       "      <td>56.0</td>\n",
       "    </tr>\n",
       "    <tr>\n",
       "      <th>1789</th>\n",
       "      <td>3.620314</td>\n",
       "      <td>11.0</td>\n",
       "    </tr>\n",
       "    <tr>\n",
       "      <th>5245</th>\n",
       "      <td>3.649353</td>\n",
       "      <td>111.0</td>\n",
       "    </tr>\n",
       "    <tr>\n",
       "      <th>7581</th>\n",
       "      <td>3.653200</td>\n",
       "      <td>428.0</td>\n",
       "    </tr>\n",
       "    <tr>\n",
       "      <th>6238</th>\n",
       "      <td>3.655385</td>\n",
       "      <td>78.0</td>\n",
       "    </tr>\n",
       "    <tr>\n",
       "      <th>1177</th>\n",
       "      <td>3.672597</td>\n",
       "      <td>126.0</td>\n",
       "    </tr>\n",
       "    <tr>\n",
       "      <th>1729</th>\n",
       "      <td>3.682750</td>\n",
       "      <td>50.0</td>\n",
       "    </tr>\n",
       "    <tr>\n",
       "      <th>1751</th>\n",
       "      <td>3.682750</td>\n",
       "      <td>50.0</td>\n",
       "    </tr>\n",
       "    <tr>\n",
       "      <th>3060</th>\n",
       "      <td>3.699817</td>\n",
       "      <td>46.0</td>\n",
       "    </tr>\n",
       "    <tr>\n",
       "      <th>1002</th>\n",
       "      <td>3.708132</td>\n",
       "      <td>210.0</td>\n",
       "    </tr>\n",
       "    <tr>\n",
       "      <th>5678</th>\n",
       "      <td>3.717681</td>\n",
       "      <td>304.0</td>\n",
       "    </tr>\n",
       "    <tr>\n",
       "      <th>133</th>\n",
       "      <td>3.728878</td>\n",
       "      <td>44.0</td>\n",
       "    </tr>\n",
       "    <tr>\n",
       "      <th>437</th>\n",
       "      <td>3.732409</td>\n",
       "      <td>43.0</td>\n",
       "    </tr>\n",
       "    <tr>\n",
       "      <th>7548</th>\n",
       "      <td>3.744179</td>\n",
       "      <td>81.0</td>\n",
       "    </tr>\n",
       "    <tr>\n",
       "      <th>5919</th>\n",
       "      <td>3.752877</td>\n",
       "      <td>87.0</td>\n",
       "    </tr>\n",
       "    <tr>\n",
       "      <th>5719</th>\n",
       "      <td>3.759057</td>\n",
       "      <td>70.0</td>\n",
       "    </tr>\n",
       "    <tr>\n",
       "      <th>7540</th>\n",
       "      <td>3.771411</td>\n",
       "      <td>41.0</td>\n",
       "    </tr>\n",
       "    <tr>\n",
       "      <th>3984</th>\n",
       "      <td>3.772050</td>\n",
       "      <td>25.0</td>\n",
       "    </tr>\n",
       "    <tr>\n",
       "      <th>6143</th>\n",
       "      <td>3.780388</td>\n",
       "      <td>142.0</td>\n",
       "    </tr>\n",
       "    <tr>\n",
       "      <th>2914</th>\n",
       "      <td>3.782764</td>\n",
       "      <td>53.0</td>\n",
       "    </tr>\n",
       "    <tr>\n",
       "      <th>2845</th>\n",
       "      <td>3.782764</td>\n",
       "      <td>53.0</td>\n",
       "    </tr>\n",
       "    <tr>\n",
       "      <th>6706</th>\n",
       "      <td>3.787077</td>\n",
       "      <td>9.0</td>\n",
       "    </tr>\n",
       "    <tr>\n",
       "      <th>6108</th>\n",
       "      <td>3.790483</td>\n",
       "      <td>75.0</td>\n",
       "    </tr>\n",
       "    <tr>\n",
       "      <th>6130</th>\n",
       "      <td>3.790483</td>\n",
       "      <td>75.0</td>\n",
       "    </tr>\n",
       "    <tr>\n",
       "      <th>2074</th>\n",
       "      <td>3.801438</td>\n",
       "      <td>31.0</td>\n",
       "    </tr>\n",
       "    <tr>\n",
       "      <th>719</th>\n",
       "      <td>3.804807</td>\n",
       "      <td>101.0</td>\n",
       "    </tr>\n",
       "    <tr>\n",
       "      <th>1127</th>\n",
       "      <td>3.805885</td>\n",
       "      <td>325.0</td>\n",
       "    </tr>\n",
       "    <tr>\n",
       "      <th>4430</th>\n",
       "      <td>3.837628</td>\n",
       "      <td>38.0</td>\n",
       "    </tr>\n",
       "    <tr>\n",
       "      <th>893</th>\n",
       "      <td>3.841279</td>\n",
       "      <td>28.0</td>\n",
       "    </tr>\n",
       "    <tr>\n",
       "      <th>468</th>\n",
       "      <td>3.844174</td>\n",
       "      <td>48.0</td>\n",
       "    </tr>\n",
       "    <tr>\n",
       "      <th>3620</th>\n",
       "      <td>3.845975</td>\n",
       "      <td>227.0</td>\n",
       "    </tr>\n",
       "    <tr>\n",
       "      <th>6678</th>\n",
       "      <td>3.860764</td>\n",
       "      <td>157.0</td>\n",
       "    </tr>\n",
       "    <tr>\n",
       "      <th>2779</th>\n",
       "      <td>3.868253</td>\n",
       "      <td>44.0</td>\n",
       "    </tr>\n",
       "    <tr>\n",
       "      <th>1484</th>\n",
       "      <td>3.881720</td>\n",
       "      <td>43.0</td>\n",
       "    </tr>\n",
       "    <tr>\n",
       "      <th>5908</th>\n",
       "      <td>3.886528</td>\n",
       "      <td>156.0</td>\n",
       "    </tr>\n",
       "    <tr>\n",
       "      <th>4863</th>\n",
       "      <td>3.887764</td>\n",
       "      <td>83.0</td>\n",
       "    </tr>\n",
       "    <tr>\n",
       "      <th>2850</th>\n",
       "      <td>3.890230</td>\n",
       "      <td>10.0</td>\n",
       "    </tr>\n",
       "    <tr>\n",
       "      <th>7584</th>\n",
       "      <td>3.890428</td>\n",
       "      <td>110.0</td>\n",
       "    </tr>\n",
       "    <tr>\n",
       "      <th>3864</th>\n",
       "      <td>3.908086</td>\n",
       "      <td>82.0</td>\n",
       "    </tr>\n",
       "    <tr>\n",
       "      <th>419</th>\n",
       "      <td>3.951161</td>\n",
       "      <td>184.0</td>\n",
       "    </tr>\n",
       "    <tr>\n",
       "      <th>3774</th>\n",
       "      <td>3.957803</td>\n",
       "      <td>93.0</td>\n",
       "    </tr>\n",
       "    <tr>\n",
       "      <th>7028</th>\n",
       "      <td>3.963192</td>\n",
       "      <td>34.0</td>\n",
       "    </tr>\n",
       "    <tr>\n",
       "      <th>1747</th>\n",
       "      <td>3.964707</td>\n",
       "      <td>367.0</td>\n",
       "    </tr>\n",
       "    <tr>\n",
       "      <th>494</th>\n",
       "      <td>3.970339</td>\n",
       "      <td>6.0</td>\n",
       "    </tr>\n",
       "    <tr>\n",
       "      <th>4074</th>\n",
       "      <td>3.984339</td>\n",
       "      <td>57.0</td>\n",
       "    </tr>\n",
       "    <tr>\n",
       "      <th>2613</th>\n",
       "      <td>3.996640</td>\n",
       "      <td>27.0</td>\n",
       "    </tr>\n",
       "    <tr>\n",
       "      <th>6999</th>\n",
       "      <td>4.006031</td>\n",
       "      <td>166.0</td>\n",
       "    </tr>\n",
       "    <tr>\n",
       "      <th>6426</th>\n",
       "      <td>4.012146</td>\n",
       "      <td>345.0</td>\n",
       "    </tr>\n",
       "    <tr>\n",
       "      <th>7366</th>\n",
       "      <td>4.021904</td>\n",
       "      <td>29.0</td>\n",
       "    </tr>\n",
       "    <tr>\n",
       "      <th>3400</th>\n",
       "      <td>4.042396</td>\n",
       "      <td>150.0</td>\n",
       "    </tr>\n",
       "    <tr>\n",
       "      <th>3293</th>\n",
       "      <td>4.061536</td>\n",
       "      <td>120.0</td>\n",
       "    </tr>\n",
       "    <tr>\n",
       "      <th>1097</th>\n",
       "      <td>4.061748</td>\n",
       "      <td>69.0</td>\n",
       "    </tr>\n",
       "    <tr>\n",
       "      <th>585</th>\n",
       "      <td>4.073646</td>\n",
       "      <td>78.0</td>\n",
       "    </tr>\n",
       "    <tr>\n",
       "      <th>3156</th>\n",
       "      <td>4.127890</td>\n",
       "      <td>100.0</td>\n",
       "    </tr>\n",
       "    <tr>\n",
       "      <th>3484</th>\n",
       "      <td>4.220743</td>\n",
       "      <td>34.0</td>\n",
       "    </tr>\n",
       "    <tr>\n",
       "      <th>3719</th>\n",
       "      <td>4.254756</td>\n",
       "      <td>5.0</td>\n",
       "    </tr>\n",
       "    <tr>\n",
       "      <th>583</th>\n",
       "      <td>4.291430</td>\n",
       "      <td>21.0</td>\n",
       "    </tr>\n",
       "    <tr>\n",
       "      <th>1721</th>\n",
       "      <td>4.306454</td>\n",
       "      <td>480.0</td>\n",
       "    </tr>\n",
       "    <tr>\n",
       "      <th>7370</th>\n",
       "      <td>4.311347</td>\n",
       "      <td>327.0</td>\n",
       "    </tr>\n",
       "    <tr>\n",
       "      <th>4042</th>\n",
       "      <td>4.313552</td>\n",
       "      <td>34.0</td>\n",
       "    </tr>\n",
       "    <tr>\n",
       "      <th>3043</th>\n",
       "      <td>4.342832</td>\n",
       "      <td>149.0</td>\n",
       "    </tr>\n",
       "    <tr>\n",
       "      <th>99</th>\n",
       "      <td>4.394483</td>\n",
       "      <td>285.0</td>\n",
       "    </tr>\n",
       "    <tr>\n",
       "      <th>3586</th>\n",
       "      <td>4.590971</td>\n",
       "      <td>125.0</td>\n",
       "    </tr>\n",
       "    <tr>\n",
       "      <th>3568</th>\n",
       "      <td>4.657955</td>\n",
       "      <td>95.0</td>\n",
       "    </tr>\n",
       "    <tr>\n",
       "      <th>2514</th>\n",
       "      <td>4.660757</td>\n",
       "      <td>204.0</td>\n",
       "    </tr>\n",
       "    <tr>\n",
       "      <th>5114</th>\n",
       "      <td>4.679371</td>\n",
       "      <td>402.0</td>\n",
       "    </tr>\n",
       "    <tr>\n",
       "      <th>6864</th>\n",
       "      <td>4.860761</td>\n",
       "      <td>246.0</td>\n",
       "    </tr>\n",
       "    <tr>\n",
       "      <th>2157</th>\n",
       "      <td>4.978212</td>\n",
       "      <td>290.0</td>\n",
       "    </tr>\n",
       "    <tr>\n",
       "      <th>2160</th>\n",
       "      <td>4.978212</td>\n",
       "      <td>290.0</td>\n",
       "    </tr>\n",
       "    <tr>\n",
       "      <th>4028</th>\n",
       "      <td>5.058346</td>\n",
       "      <td>358.0</td>\n",
       "    </tr>\n",
       "    <tr>\n",
       "      <th>2645</th>\n",
       "      <td>5.086155</td>\n",
       "      <td>657.0</td>\n",
       "    </tr>\n",
       "    <tr>\n",
       "      <th>2276</th>\n",
       "      <td>5.088488</td>\n",
       "      <td>448.0</td>\n",
       "    </tr>\n",
       "    <tr>\n",
       "      <th>4946</th>\n",
       "      <td>5.285885</td>\n",
       "      <td>294.0</td>\n",
       "    </tr>\n",
       "    <tr>\n",
       "      <th>1826</th>\n",
       "      <td>5.294641</td>\n",
       "      <td>298.0</td>\n",
       "    </tr>\n",
       "    <tr>\n",
       "      <th>241</th>\n",
       "      <td>5.364737</td>\n",
       "      <td>22.0</td>\n",
       "    </tr>\n",
       "    <tr>\n",
       "      <th>3760</th>\n",
       "      <td>5.396958</td>\n",
       "      <td>392.0</td>\n",
       "    </tr>\n",
       "    <tr>\n",
       "      <th>1563</th>\n",
       "      <td>5.430111</td>\n",
       "      <td>167.0</td>\n",
       "    </tr>\n",
       "    <tr>\n",
       "      <th>2073</th>\n",
       "      <td>5.510222</td>\n",
       "      <td>291.0</td>\n",
       "    </tr>\n",
       "    <tr>\n",
       "      <th>6209</th>\n",
       "      <td>5.524789</td>\n",
       "      <td>221.0</td>\n",
       "    </tr>\n",
       "    <tr>\n",
       "      <th>605</th>\n",
       "      <td>5.625676</td>\n",
       "      <td>632.0</td>\n",
       "    </tr>\n",
       "    <tr>\n",
       "      <th>2829</th>\n",
       "      <td>5.743324</td>\n",
       "      <td>332.0</td>\n",
       "    </tr>\n",
       "    <tr>\n",
       "      <th>4632</th>\n",
       "      <td>5.767057</td>\n",
       "      <td>458.0</td>\n",
       "    </tr>\n",
       "  </tbody>\n",
       "</table>\n",
       "</div>"
      ],
      "text/plain": [
       "          pred   real\n",
       "2015  3.465901  224.0\n",
       "1666  3.467500  138.0\n",
       "7238  3.468887  229.0\n",
       "3049  3.493703    8.0\n",
       "5130  3.494345   30.0\n",
       "5033  3.498706   23.0\n",
       "7136  3.499852   29.0\n",
       "1473  3.502113   11.0\n",
       "5450  3.505465  140.0\n",
       "6218  3.509343   35.0\n",
       "7034  3.520776  105.0\n",
       "3952  3.528404   34.0\n",
       "7131  3.564714  551.0\n",
       "6514  3.577671    9.0\n",
       "6928  3.588322   43.0\n",
       "6750  3.598106  148.0\n",
       "275   3.609417   39.0\n",
       "2255  3.610135  142.0\n",
       "4631  3.612903   56.0\n",
       "1789  3.620314   11.0\n",
       "5245  3.649353  111.0\n",
       "7581  3.653200  428.0\n",
       "6238  3.655385   78.0\n",
       "1177  3.672597  126.0\n",
       "1729  3.682750   50.0\n",
       "1751  3.682750   50.0\n",
       "3060  3.699817   46.0\n",
       "1002  3.708132  210.0\n",
       "5678  3.717681  304.0\n",
       "133   3.728878   44.0\n",
       "437   3.732409   43.0\n",
       "7548  3.744179   81.0\n",
       "5919  3.752877   87.0\n",
       "5719  3.759057   70.0\n",
       "7540  3.771411   41.0\n",
       "3984  3.772050   25.0\n",
       "6143  3.780388  142.0\n",
       "2914  3.782764   53.0\n",
       "2845  3.782764   53.0\n",
       "6706  3.787077    9.0\n",
       "6108  3.790483   75.0\n",
       "6130  3.790483   75.0\n",
       "2074  3.801438   31.0\n",
       "719   3.804807  101.0\n",
       "1127  3.805885  325.0\n",
       "4430  3.837628   38.0\n",
       "893   3.841279   28.0\n",
       "468   3.844174   48.0\n",
       "3620  3.845975  227.0\n",
       "6678  3.860764  157.0\n",
       "2779  3.868253   44.0\n",
       "1484  3.881720   43.0\n",
       "5908  3.886528  156.0\n",
       "4863  3.887764   83.0\n",
       "2850  3.890230   10.0\n",
       "7584  3.890428  110.0\n",
       "3864  3.908086   82.0\n",
       "419   3.951161  184.0\n",
       "3774  3.957803   93.0\n",
       "7028  3.963192   34.0\n",
       "1747  3.964707  367.0\n",
       "494   3.970339    6.0\n",
       "4074  3.984339   57.0\n",
       "2613  3.996640   27.0\n",
       "6999  4.006031  166.0\n",
       "6426  4.012146  345.0\n",
       "7366  4.021904   29.0\n",
       "3400  4.042396  150.0\n",
       "3293  4.061536  120.0\n",
       "1097  4.061748   69.0\n",
       "585   4.073646   78.0\n",
       "3156  4.127890  100.0\n",
       "3484  4.220743   34.0\n",
       "3719  4.254756    5.0\n",
       "583   4.291430   21.0\n",
       "1721  4.306454  480.0\n",
       "7370  4.311347  327.0\n",
       "4042  4.313552   34.0\n",
       "3043  4.342832  149.0\n",
       "99    4.394483  285.0\n",
       "3586  4.590971  125.0\n",
       "3568  4.657955   95.0\n",
       "2514  4.660757  204.0\n",
       "5114  4.679371  402.0\n",
       "6864  4.860761  246.0\n",
       "2157  4.978212  290.0\n",
       "2160  4.978212  290.0\n",
       "4028  5.058346  358.0\n",
       "2645  5.086155  657.0\n",
       "2276  5.088488  448.0\n",
       "4946  5.285885  294.0\n",
       "1826  5.294641  298.0\n",
       "241   5.364737   22.0\n",
       "3760  5.396958  392.0\n",
       "1563  5.430111  167.0\n",
       "2073  5.510222  291.0\n",
       "6209  5.524789  221.0\n",
       "605   5.625676  632.0\n",
       "2829  5.743324  332.0\n",
       "4632  5.767057  458.0"
      ]
     },
     "execution_count": 194,
     "metadata": {},
     "output_type": "execute_result"
    }
   ],
   "source": [
    "comp_sort.tail(100)"
   ]
  },
  {
   "cell_type": "code",
   "execution_count": 173,
   "metadata": {
    "collapsed": true
   },
   "outputs": [],
   "source": [
    "zero_count = []"
   ]
  },
  {
   "cell_type": "code",
   "execution_count": 176,
   "metadata": {
    "collapsed": false
   },
   "outputs": [
    {
     "data": {
      "text/plain": [
       "6024"
      ]
     },
     "execution_count": 176,
     "metadata": {},
     "output_type": "execute_result"
    }
   ],
   "source": [
    "sum(comp_sort[\"real\"]<=1)"
   ]
  },
  {
   "cell_type": "code",
   "execution_count": 189,
   "metadata": {
    "collapsed": false
   },
   "outputs": [],
   "source": [
    "for i in range(comp_sort.shape[0]):\n",
    "    zero_count.append((comp_sort[\"real\"][0:i]<=2).sum())"
   ]
  },
  {
   "cell_type": "code",
   "execution_count": 190,
   "metadata": {
    "collapsed": false
   },
   "outputs": [],
   "source": [
    "zero_ratio = np.array(zero_count)/6024"
   ]
  },
  {
   "cell_type": "code",
   "execution_count": 191,
   "metadata": {
    "collapsed": false
   },
   "outputs": [
    {
     "data": {
      "text/plain": [
       "(15248,)"
      ]
     },
     "execution_count": 191,
     "metadata": {},
     "output_type": "execute_result"
    }
   ],
   "source": [
    "zero_ratio.shape"
   ]
  },
  {
   "cell_type": "code",
   "execution_count": 192,
   "metadata": {
    "collapsed": false
   },
   "outputs": [
    {
     "data": {
      "text/plain": [
       "0.7452124868835257"
      ]
     },
     "execution_count": 192,
     "metadata": {},
     "output_type": "execute_result"
    }
   ],
   "source": [
    "sum(zero_ratio < 0.9)/len(zero_ratio)"
   ]
  },
  {
   "cell_type": "markdown",
   "metadata": {},
   "source": [
    "73% data contains 95% 0"
   ]
  },
  {
   "cell_type": "markdown",
   "metadata": {},
   "source": [
    "how about the wrong 5%, are they large number"
   ]
  },
  {
   "cell_type": "code",
   "execution_count": 54,
   "metadata": {
    "collapsed": false
   },
   "outputs": [
    {
     "data": {
      "text/plain": [
       "array([ 0.        ,  0.        ,  0.        ,  0.        ,  0.        ,\n",
       "        0.        ,  0.        ,  0.        ,  0.        ,  0.69314718,\n",
       "        0.69314718,  1.09861229,  1.38629436,  1.79175947,  2.19722458,\n",
       "        5.58724866])"
      ]
     },
     "execution_count": 54,
     "metadata": {},
     "output_type": "execute_result"
    }
   ],
   "source": [
    "np.percentile(comp_sort[\"real\"][zero_ratio < 0.95],[1,2,5,10,20,25,50,75,80,90,92,94,96,98,99,100])"
   ]
  },
  {
   "cell_type": "markdown",
   "metadata": {},
   "source": [
    "# Based on this classification, build regression agian"
   ]
  },
  {
   "cell_type": "markdown",
   "metadata": {},
   "source": [
    "We will use the previous ranking as the classification model and try to achieve the best accuracy\n",
    "\n",
    "We will sacrifice some samples to get the overall decrease of the error"
   ]
  },
  {
   "cell_type": "code",
   "execution_count": 150,
   "metadata": {
    "collapsed": true
   },
   "outputs": [],
   "source": [
    "X_train = train.ix[:,\"V1\":\"V280\"]\n",
    "y_train = train[\"y\"]\n",
    "\n",
    "X_test = test.ix[:,\"V1\":\"V280\"]\n",
    "y_test = test[\"y\"]\n",
    "\n",
    "y_train_log = np.log(train[\"y\"]+1)\n",
    "\n",
    "# create class variables \n",
    "y_train_class = np.array([1 if x > 0 else 0 for x in y_train])\n",
    "y_test_class = np.array([1 if x > 0 else 0 for x in y_test])"
   ]
  },
  {
   "cell_type": "code",
   "execution_count": 182,
   "metadata": {
    "collapsed": false
   },
   "outputs": [],
   "source": [
    "zero_index = comp_sort[\"real\"][zero_ratio < 0.1].index\n",
    "\n",
    "positive_index = comp_sort[\"real\"][zero_ratio >= 0.1].index\n",
    "\n",
    "gb_pred = pd.Series(gb_pred)\n",
    "\n",
    "positive = gb_pred.loc[positive_index]"
   ]
  },
  {
   "cell_type": "code",
   "execution_count": 155,
   "metadata": {
    "collapsed": false
   },
   "outputs": [],
   "source": [
    "# def mse(preds, dtrain):\n",
    "#     labels = dtrain.get_label()\n",
    "#     grad = preds - labels\n",
    "#     hess = np.array([1]*len(grad))\n",
    "#     return grad, hess\n",
    "\n",
    "# RANDOM_STATE = 42\n",
    "# params = {\n",
    "#     'min_child_weight': 1,\n",
    "#     'eta': 0.01,\n",
    "#     'colsample_bytree': 0.5,\n",
    "#     'max_depth': 12,\n",
    "#     'subsample': 0.1,\n",
    "#     'reg_alpha': 1,\n",
    "#     'gamma': 0.01,\n",
    "#     'silent':True,\n",
    "#     'seed': RANDOM_STATE\n",
    "# }\n",
    "\n",
    "# # xgtrain = xgb.DMatrix(X, label=loss_boxcox[0])\n",
    "# xgtrain_positive = xgb.DMatrix(X_train.ix[y_train_class==1,:], label=y_train_log[y_train_class==1])\n",
    "# xgtest_positive = xgb.DMatrix(positive_test)"
   ]
  },
  {
   "cell_type": "code",
   "execution_count": 156,
   "metadata": {
    "collapsed": true
   },
   "outputs": [],
   "source": [
    "# gb_model_positive = xgb.train(params,xgtrain_positive,1500,obj = mse)"
   ]
  },
  {
   "cell_type": "code",
   "execution_count": 157,
   "metadata": {
    "collapsed": true
   },
   "outputs": [],
   "source": [
    "# tree_num = [100,200,300,400,500,600,700,800,900,1000,1100,1200,1300,1400,1500]\n",
    "# gb_pred_positive = gb_model.predict(xgtest_positive)"
   ]
  },
  {
   "cell_type": "code",
   "execution_count": 158,
   "metadata": {
    "collapsed": true
   },
   "outputs": [],
   "source": [
    "# for nt in tree_num:\n",
    "#     gb_pred_positive.append(gb_model.predict(xgtest_positive,ntree_limit=nt))\n",
    "\n",
    "# for pred in gb_pred_positive:\n",
    "#     print(eva(pred, y_test.loc[positive_index]))"
   ]
  },
  {
   "cell_type": "code",
   "execution_count": 159,
   "metadata": {
    "collapsed": false
   },
   "outputs": [],
   "source": [
    "# gb_pred_positive"
   ]
  },
  {
   "cell_type": "code",
   "execution_count": 183,
   "metadata": {
    "collapsed": false
   },
   "outputs": [],
   "source": [
    "pred_positive = positive\n",
    "\n",
    "pred_zero = pd.Series(np.zeros(len(zero_index)),index = zero_index)\n",
    "\n",
    "pred = pd.concat([pred_positive,pred_zero])\n",
    "\n",
    "pred = pred.sort_index()\n",
    "\n",
    "real = y_test\n",
    "\n",
    "pred = pred.as_matrix()\n",
    "real = real.as_matrix()"
   ]
  },
  {
   "cell_type": "code",
   "execution_count": 184,
   "metadata": {
    "collapsed": false
   },
   "outputs": [
    {
     "data": {
      "text/plain": [
       "0.38902550939542691"
      ]
     },
     "execution_count": 184,
     "metadata": {},
     "output_type": "execute_result"
    }
   ],
   "source": [
    "eva(pred,real)"
   ]
  },
  {
   "cell_type": "markdown",
   "metadata": {},
   "source": [
    "The train accuracy is improved"
   ]
  }
 ],
 "metadata": {
  "anaconda-cloud": {},
  "kernelspec": {
   "display_name": "Python [Root]",
   "language": "python",
   "name": "Python [Root]"
  },
  "language_info": {
   "codemirror_mode": {
    "name": "ipython",
    "version": 3
   },
   "file_extension": ".py",
   "mimetype": "text/x-python",
   "name": "python",
   "nbconvert_exporter": "python",
   "pygments_lexer": "ipython3",
   "version": "3.5.2"
  }
 },
 "nbformat": 4,
 "nbformat_minor": 0
}
